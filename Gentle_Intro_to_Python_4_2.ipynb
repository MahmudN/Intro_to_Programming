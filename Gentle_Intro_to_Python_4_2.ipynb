{
  "nbformat": 4,
  "nbformat_minor": 0,
  "metadata": {
    "colab": {
      "provenance": [],
      "include_colab_link": true
    },
    "kernelspec": {
      "name": "python3",
      "display_name": "Python 3"
    },
    "language_info": {
      "name": "python"
    }
  },
  "cells": [
    {
      "cell_type": "markdown",
      "metadata": {
        "id": "view-in-github",
        "colab_type": "text"
      },
      "source": [
        "<a href=\"https://colab.research.google.com/github/MahmudN/Intro_to_Programming/blob/main/Gentle_Intro_to_Python_4_2.ipynb\" target=\"_parent\"><img src=\"https://colab.research.google.com/assets/colab-badge.svg\" alt=\"Open In Colab\"/></a>"
      ]
    },
    {
      "cell_type": "markdown",
      "source": [
        "# A Gentle Intro to Programming with Python\n"
      ],
      "metadata": {
        "id": "AhwcYL9LazZc"
      }
    },
    {
      "cell_type": "markdown",
      "source": [
        "## Principles of Coding\n",
        "### What is coding?\n",
        "Codes are a set of instructions for the computer. When we run a set of codes, they are compiled (turned into machine codes) for the computer to understrand. The computer then executes the code.\n",
        "\n",
        "### Executing/running our first code:"
      ],
      "metadata": {
        "id": "QGDB54DMa-pc"
      }
    },
    {
      "cell_type": "code",
      "execution_count": null,
      "metadata": {
        "id": "gv-pXLH_ahth"
      },
      "outputs": [],
      "source": [
        "print(\"Hello, world!\")\n"
      ]
    },
    {
      "cell_type": "markdown",
      "source": [
        "\"\\n\" and \"\\t\" are special commands to format the outputs of \"strings.\" A string is a sequence of literal characters. We normally use strings for human languages."
      ],
      "metadata": {
        "id": "K2f6VpJsfhzp"
      }
    },
    {
      "cell_type": "code",
      "source": [
        "# printing with indentation:\n",
        "print(\"Hello, World, This is my first code!\")\n"
      ],
      "metadata": {
        "id": "VTn9wkcwfcpZ"
      },
      "execution_count": null,
      "outputs": []
    },
    {
      "cell_type": "markdown",
      "source": [
        "### Commenting\n",
        "We can use '#' to make a line of comments. Anything on the right sid of # won't be read by the compiler. You can also comment a chunk or multiple lines of code by enclosing with a tripe quotation. Example:\n",
        "```\n",
        "\"\"\"\n",
        "This is for \n",
        "commenting \n",
        "over multiple lines\n",
        "\"\"\"\n",
        "```"
      ],
      "metadata": {
        "id": "zFJGI58z77eg"
      }
    },
    {
      "cell_type": "markdown",
      "source": [
        "## Variables\n",
        "Variables are used to represnt \"anything\" in your code. They are very useful for storing values in the memory. In Python, and most other languages, variable names should start with letters and use \"=\" to set the value. Variable names can't contain space and special characters, except for underscore. Example: x = 12"
      ],
      "metadata": {
        "id": "ngHCkSJVbiPk"
      }
    },
    {
      "cell_type": "code",
      "source": [
        "x = 12\n",
        "y = 300\n",
        "\n",
        "print(x+y)"
      ],
      "metadata": {
        "id": "7bu3Y_-6awK8"
      },
      "execution_count": null,
      "outputs": []
    },
    {
      "cell_type": "markdown",
      "source": [
        "Variables can store more than just numbers. They can also store strings, lists, dictionaries, and classes. More importantly, in Python, variable values can be reset."
      ],
      "metadata": {
        "id": "qSH7gxKkMkyB"
      }
    },
    {
      "cell_type": "code",
      "source": [
        "x = 12\n",
        "x ='Hello, world'\n",
        "print(x)"
      ],
      "metadata": {
        "id": "QvmCXt7RPC6l"
      },
      "execution_count": null,
      "outputs": []
    },
    {
      "cell_type": "markdown",
      "source": [
        "## Types and operations:\n",
        "\n",
        "<p>Every piece of code in Python is an object. Common object types: integer, float (decimal), string, boolean. <p>\n",
        "<p> Common mathematical operations: +, -, /, *, **, % (addition, subtraction, multiplication, expoenent, modulo , respectively)"
      ],
      "metadata": {
        "id": "ytd7KtFhj2og"
      }
    },
    {
      "cell_type": "code",
      "source": [
        "y = 12\n",
        "z = \"12\"\n",
        "\n",
        "print(type(y))\n",
        "print(type(z))"
      ],
      "metadata": {
        "id": "g9RFsxdIKSuE"
      },
      "execution_count": null,
      "outputs": []
    },
    {
      "cell_type": "code",
      "source": [
        "print(y+z)"
      ],
      "metadata": {
        "id": "BaOxGZSAkiGb"
      },
      "execution_count": null,
      "outputs": []
    },
    {
      "cell_type": "code",
      "source": [
        "z =12\n",
        "\n",
        "print(y+z)"
      ],
      "metadata": {
        "id": "QLTsOMaABy5z"
      },
      "execution_count": null,
      "outputs": []
    },
    {
      "cell_type": "markdown",
      "source": [
        "In some cases we can change the type of the object ourselves. int() converts a number to an interger, float() converts a number to a float, string() converts a number to a string."
      ],
      "metadata": {
        "id": "73ElCrUlNFIB"
      }
    },
    {
      "cell_type": "markdown",
      "source": [
        "Mathematical operations:"
      ],
      "metadata": {
        "id": "Yy5MsYFn-cL4"
      }
    },
    {
      "cell_type": "code",
      "source": [
        "a = 10\n",
        "b = 20\n",
        "print(a+b)\n",
        "print(a-b)\n",
        "print(a*b)\n",
        "print(a/b)\n",
        "print(a**b)"
      ],
      "metadata": {
        "id": "zqsSXKVmcAVU"
      },
      "execution_count": null,
      "outputs": []
    },
    {
      "cell_type": "markdown",
      "source": [
        "### Booleans:\n",
        "True or false statements.\n",
        "![controlFlow3.png](data:image/png;base64,iVBORw0KGgoAAAANSUhEUgAAAQ8AAAChCAIAAABWLK1DAAAAAXNSR0IArs4c6QAAAARnQU1BAACxjwv8YQUAAAAJcEhZcwAADsMAAA7DAcdvqGQAAAASdEVYdFNvZnR3YXJlAEdyZWVuc2hvdF5VCAUAACqXSURBVHhe7Z2HWxXX9v5/f9Q3UVFRkI4VK6hRVCxYEBErAmIDBMGCWAHBrthbImpEsSBVsffo1WuMsSUavTHn94E17juZA8cBDyXc/T7v47Pb7L1nz3r3XmvUOf/PoaGhYQ9aLRoadqHVoqFhF1otGhp2odWioWEXVrX4lrwdV/prW6Dn6VeDzr20FGpqtgz9il/NrHlnqOIzrGrpdubtvQcP2wJnVr689uippVBTs2UYc+mXhOvvDVV8hlaLpmY91GrR1LTL9qmWyqrq+Hnx/r5+ubl5lqpmZVX15VWrsny9e5z68bSlSrMdsH2q5c69+/n5BR3+75sWVsvBQ4fHjR3HuFot7ZLt2RPz8uzWwmqBRSdOarW0Vza7Ws5fuJgQn4BfZClvGtugWm7evnPtxk2VRSdaLe2VzagW3JLICZEdv/kWpqWlW2qbxjaolnXr1u/bt19lLWq5e/+BqtL8p9P9amGvzcnNG9h/AEbj1a170vwkjhdLmybza9RSfOZs1OQpSUkLpsdM56y7deeulO/YsTN6avS8uHlDBg3eXbhHCrFyFD5zxswZsTOGDx12roFbKCuvCPDz37lzl2S5SqklL29TcEAgO0XYkFDz5awPhy3hDbXjx42/ceu2qtp/4GB6+jKuHR0+yqNDxx5e3lu3blO1mq1ON6slPS3d17sH5jIgpP/69Ruu37xlafCVbLJaLpZeCvTzLzl3XrJRU6IWJC0gUVFVjV1WVFZJG8xUGmzfvqNf7z5yMuzatXt+4nwpN/N40YlewT25WW6Z3WHQgIGXa66KWhDkqlVZ3P7p4jNBAYFjRo1WVzH0hg0bSTAcLTduzJFyxOzv4zvyuxFjI8aeOVvyw/Ei3x4+3bp0NctJs3XpZrVgoFjAooWLmskDabJapkVPmzN7jqpanrncs3MXJvn9D8eZ8JGjx6R8+46dkshYloEGLl+psZRbKBZ/8OAhVSJqWblylSqhKwQp6X37D3T16Hz77j3J+vn4pqYuJXH1+o3OHTtxYc+g4Jqr16R2zZq1lJw89aNkNVudblbLihUr2cJ5xn1798lenY0RWBp8JZumFpyfLp08cLc4T/DBYqfH4nclJiQyPaqYKtaM01V8tkRdSxqzxhdKTUmt/qwZZ4paDh0+okpELefOX1AlKI0SSefk5HLmqKrgwKCldWpBt5xUTIMFVLVnz53nwj179qoSzdal++MWNs78gs2hg4fwpLt39cRHb/W4BXeIyZw4ecpcq1hZVR03N46jhhiDc0CVs6lPGDeeQqIvcxxvZkNqOVtyTpUQ1VCiskI6R7fII8skHsRpzuIlcqEKijRbne5Xi+LRY99PmjipLbwTwzQxu5zPXpmF4jQSchDQ0wxzV4WQEGJoaBhemXKfzGxILdKJ0KIWeuaImzVzFgEJMzTLg6PGnMUl40KtlrbDZlSL8ELpJXyeVvn7FkxN4g3skqODKFy9B4P4YHhi+D95m/KlBDseENI/L28T6ZUrVqIEKefwQfCll8oka6azWqTErBZOWi5X2fmJ8wmiJO2sFnPAo9XS1tjsanEvG6uWzZu3SDo9LZ3sqJHhnHhl5RV79u6LnBBZUVmFBrDRmmvXaYNaOEbkvRma4WCUE4a4pV/vPnfu3ZeuzLx8pYZu5QTjdEKBzmqhFlVIGnFSy5+kDxw8RGRPEFVaVs6FlPgT9KekSkuIyGm8e3ehKtFsXbZPtewu3ENMj6mFDQnNylpNCXZPIiggkEIfL2+ifHnfxWkzcULk8KHDFi9aPGf2HLWR44BRSNySkpxieQFgIQcF4dno8FEEP4ePHMX6GWJY2NDMzOXU7t27DwUSnyxZvISoHZ1wyuHXcRVjRU2JogrdUpU0P4kjqGdQMIJBJwT30VFT5RYKCjabR9RsLbZPtVy/eQsSaeDMyLnRMmRQRjT/LZNMg8S1GzflAKmXiLZ2qp+JtqUroblDzVZke/bENDXdS60WTU271GrR1LRLrRZNTbvUatHUtEutFk1Nu7SlFt+St0/+/e+2wGkVr4sevLAUamq2DKeU/Wrr63tGqrWBsk89/4+R0dBoWWB+tjwxI9Xa0GrRaEVotWho2IVWS5vGry9+3bpli7+v382bN40ijdaDVkubRtmlMvm3lVotbQFaLW0d167V/i8XrZa2ADerZXzE2IL8/Ddv3hh5d6NtquXVq1dGyh34+OHDu99/NzIOBzrRamkjcLNaJkVO5NF27+qZtnTpo59+MkrdBzeq5dOnT9VVVZL+66+/JNEE3L93f/WqLCPzJdgZtHB34flz542Mk1q+ZqoaXwk3qwVUVlTOmTWr07cdOn7zbWzM9IrycqPCHWiUWrDj1OSU7du2RU2ekpeba5R+xvp165ISEx8/fjw8bKhfD59ffvmFwrt37zL55ZmZifEJaalLP378KI0/fPiQnpZGCNGnZ69pU6f+8ccfUk4DNohlaemSFVPmz9ycnPkJCZnLMqZOiaqqrJRaUO+gZjx79iw4MOjHUz9Klq6UWg4dPMTorGr4dyPMO1FDcwOlFy/mbsy5devWpAmRnTt2YsSi48eNOo3Gw/1qEfDUs1atki/xDR867EzxGaPi62BfLW9ev+nTqzfTII2n5N2te+Gu3e/evXvx4gWOIh4jE5s9cxacO3vOd8OGP3/+/MmTJz0Dgx4+fCg9zJk1e0XmcpXet3cvCdpw4f59+0m/fv167JgIzNfLs9uQgYOGhYZdOH+BcsSzeOGi2svqFMvQz3/+uaFBpZngak1NSJ++tPH39RsaGkqHDCFqQb1bt2x5//79ndu3ewf3RKLGNQ3MDaD8IP8ABmWzYBo1V64E+Pl19+xmlpNGo9BcahG8fft2yqRJPEIOGaPo62BfLezu7MFGxuGYNzcO8WA3gwYMJPv777/37dXbs3OXp0+eSAMQHxeXvHiJkXE48jfl41LiO6EBWv75559SHujnv37tOkkDul27Zo2RcTgePHjAuapkQBDi4+VNV6TrHdQCsfhLpZeM/GdPbOvmLUbe4eCc9OjQUdINzY2xunTy4EJGVGHkrp21Xza7eeOGZDUai+ZSC+aybs1a+RIf++6pkyeNiq+DfbWw+8bHzTMyDgfWhlVh+kbe4Rg/dpx5h8af6erRGVFxnuCD4S8tTUnllMDsDuzfz75utKuTBw6VkZGsSTxUBQcErsnO5tpFCxcuWrCARNHxIqm1DOoMUUt5WZmR/6yWn0yuF4tJiaQbmhsu3NWrV/G+NhcUSBVAyVxYcvaskddoJNyvlsvV1bgZ8p1SvHY2PzcGpvbVMi4iAhfFyDgcO7fvYMvHkzHyDkdMdHRM9DQj43Dg4TDhG9evG/n6wK6MkLi1bVu3GkVOapkZO8PcrQWWQZ3RkFoe3L9v5B0OohpKjMxn1Ds3AhVzljCJC1VQpNFYuFktbJw8j25duqYkJ7OTGaXug3214MoTLit5YKaE3ZIW4Byy0xuZOmtj5gcPHDDyfweC58zhoMDp79Hdy4Vapk+LoaShDcIyqDMaUgt/GnkntbiemzmLS8aFWi1NhpvVwo6Oj06EbeTdDftqAfl5m8aEj9q+bRu+UGZGBr6WUVEHi+FiakQpBNbqPRgg6sATI5G5LIOoRgpdq2Xj+g1YpOXV08uXLyXRBLVIiVktx44e5Zw0Ml+amzng0Wr5SrhZLc0N+2rJzlqdMC+eE+Pt2/onj+FGjB5jZOqQs2EjxhQ5fnxVZeWzZ8/OlZRwUBCAEQBQfrWmhjalpaVEz0Q1T58+RUuUhA0eQpYEMkMVgGiNGAmVPn706OHDh8xEonzgPKgFr169YqxDBw+Sfv36NQp3Vgu1qELSrucW5B9A9FjXsBbsCDQ+U1xs5DUaiXarlsEDB44aGb6nsPDatWtY/Lt3//1PPE+fPMF8ewf35DAhlM/LzZW/98ClwcQpx6T8fXypkr+kxyLxLf19/djC2ZgJhzw6dERIcgrt2rmzq0dnDtXZM2c9fvyYkkc//TRt6lRCCJqFjxhZfPq0i0GdwShent0mTYhMTU6pKC/H+pkPhyRHJbXnz53jvugcEeLrNjQ3qjhOOYL69uqNYNAJwX3cnLl0xZSOHT0mY2k0Cu1WLS9//TU+bh7GodgzMAg3CUm8+/13ZGBxzJobTRsUkeM+mV9OkP7Pf2pXgA7lAKkXKJkLFT59+sSFRubNG/PeoWEf7VMtSIKNHOJQkcZM79y+jQPDieGud9ka/4Non2opyM/HGzEyJuC9FO4uNDIaGo1E+1QLHtfAkP7yOkuBmDtq8hRCZyOvodFItE+14Kbv3L6DUHtF5vJtW7fmbsxZk53Nn7jsRgsNjcajfapFQ6M5oNWioWEXttTiW/L215ev2gIX1Lw5+6/XlkJNzZZhSs0rW1/fs3zisrWov+yq2YrU30HW1LRLrRZNTbtsn2qprKqOnxfv7+snvzbcYqyqvrxqVZavdw/zbxprCotOnJwaNdWzcxf10+r/OLZPtdy5dz8/v6DD59/mbjEePHR43NhxjKvV4syr12/ExyewOFotLcRGeWJent1aWC2QHVSrpSGyLFotrnj+wsWE+AT8Ikt509gG1XLz9p1rN26qrBiEVku9/KJaLl+psZS0KTajWnBLIidEdvzmW5iWlm6pbRrboFrWrVu/b99+lbWo5e79B6qq5Xnk6DFJtO40FL+oFgIbdh9LYduh+9XC3ebk5g3sP4B18erWPWl+EseLVLFMFNbLrFVZqgcX/Bq1FJ85GzV5SlLSgukx0znrbt25K+U7duyMnho9L27ekEGDdxfukULMC4XPnDFzRuyM4UOHnft8CxaWlVcE+Pnv3LlLslyl1JKXtyk4IJCdImxIqPly1ofDlvCG2vHjxt+4dVtV7T9wMD19GdeODh/l0aFjDy/vrVu3qVpnMnPMKz0tHU6cEIluzaqgtz49e12/eYs29LZn7z5VpUj7ZcsyYmOmz0+cPy5i7NFj31saQNUntTZNubSsfMrkKdyjj5d3cnKKKnetFibMctVcvUZaDcolMdHTkpckZyzLiJkWs3DBQuIfqWp5ulktPDb54t6AkP7r12/gUZlrWYjU1KX18vsfjptbNsQmq4UnFOjnX3LuvGSjpkQtSFpAoqKqGkuqqKySNpipNNi+fUe/3n3kme3atRtjknIzjxed6FX3Hy25ZXaHQQMGXq65KgaBIFetyuL2TxefCQoIHDNqtLqKoTds2EhC9o6NG3OkHDH7+/iO/G7E2IixZ86W/HC8yLeHT7cuXc1yMpP9pWdQcPVn16Xm2vWQvv3UPNkOsLzgwCCUieaZ2779B6TKzMSExNmzZkuaQbt39SyvqJQs2sDiaZCakho7PRYZs5vwBLkjOmTmskcUny1ZmrqUdWC15UKsmZlwO6RZf1qq7dKFWnJychmdWm6K2U6aOIlCrIIVYCmkDY8D5QwLG9pa54+b1cKSccOLFi5Se4N72WS1TIueNmf2HFW1PHO5Z+cuTJLnwYSVx7J9x05JsJOhAeVGq3ILxeIPHjykSsQgVq5cpUroCkFKGpPt6tH59t17kvXz8WWnIIGFyTelsBXZXOGaNWspOXnqR8maWVZRWfufjbPXmAu3bttO+6ITJ0kzBEdKp287bN68xdzGzLPnzqMo2SkgJogvwMqQ3rZtO7Z7tuScqkIqdC5zu3K19rP/B0x3vXz5CqWWxYuXjBk9RtL0QMtDh49I1vXZItIyW07/fiGTJ01WWcjuxpxXrlhpLmwxulktK1aslC/u9e3dJ3t1tuXQZCFY7nppc7domlrovEsnD9wtzhM2XXZK/C52TaZHFVPFmtkv2SbVtaQxa3whdla1fztT1KKsAYpBnDt/QZWgNEokzQ7KmaOq2PvZmEmwMpxUTIMFVLVYMxfu2bNXlSjidFHFWOZCTjYK5cyE6JC7vnPvvmpgIUP7+/rhKbEUs2bOgiSQHGvi3a173Nw4c+OsrNV0zpMizZ+kzXfNQce9SDoxcT4+laRlfQ4fOSpZO2pRWVGas4uO2xI6eIilsGXo/riFXS2/YDP3w62yP+EJtHrcgvPAECdOnjLXKlZWVWMZHDVsWpwDqpxNfcK48RSy45rjeDMbUovalSEeCyUqK6RzdIs8zDeOOM1Z9lEuVEGRmezfVDmbHR2KDwPZgFl/VeXMyRMnTRg/wVIIMW46x5E2FxIjUWhHLUL0z8wZgpZK1Y1SC+cwWXmCZuLWImZLYcvQ/WpRxPHlyWFtUN6JscoqULGwWeMWTJN1z3Fad6Ec/WzMBPTq0Sp/AG9+aGgYXplyn8xsSC3KPqBFLfTM9s9GTkDCDM3ywODMWTHKetUiTprEBorXbtR+p0+9rKcr87jOjJwQyYjqThX37N3HheZTDrJfUChqKSuvIG2+a56vWS0EUeMixjJJWfmmqYW7I0snqkSIT8jxYilsGTajWoQXSi9xvqtH+JVslFpYa4k3sEuODmJH9R4M4m/gieH/5G3KlxLshseQl7eJNBuzeqgcPgi+9FKZZM10VouUmNXCScvlKksgThAlaWe1mAMeF2rBXjlG1BsC4a5du2mv9p0vqgUTp4HltRtuJ/dLwEPMYHaPRfOiFsRAevv2HaoWd06phasIxOVNhmXvkFOLjUmyFlrUAkP69ouZFmMuYXrceGZdcNXybHa1uJeNVYuKcdPrLGPUyHBOPEyN7ZOdlQAXDfCYefy0QS0cI/LeDM1wMMq+yxPq17tPvQHA5Ss1dCsnGEaAoTirhVpUIWnESS1/kiZKJlIniCotKxe79CfoT0mVlhCR03j37kJVYiZhIRGXzBySQOp4aKqBqKXeI1HIffn5+BKeEZPgLXPjSxYvkSif055rw0eMlBtheknzkygRtcD+ffuxmDiceLmojp2IycsrUA4leYPC0BkZmVyFUyd7DdsKWfVewULkR61sUvJq7ofjRThdajHpMzZm+sjvRph3vZZk+1TL7sI9xPQsfdiQUEyBEhaaRFBAIIU+Xt5E+fK+i3WfOCFy+NBhixctnjN7jtrIccAoJG5JSU6xvACwkIOC8GB0+CiCH/ZOrJ8h2Fxl/9u7dx8KZDvEEIna0QmWhF/HVYwVNSWKKnRLFebIEdQzKBjBoBOCe/l9Vm6hoGCzeUTFnbt200Pt37ekL6ND1YzL165d992w4VxOOaYvL8qcee7CxfHjxjMHyECcTlLOcnFw9av7MRkWjZtKXpJMWqmFDvv06k0JikIwTICZx0RPIzhExtwI+wsLcvDgITrp0skDRbH+MiXmzMylHzPpnAMt0D8gYkyEOmPpnFtgF1i+fAUPgpuVnaVV2D7VwiYH2dt4AGr3bQEyKCPKFqtKZHcnqHDxmBFt7VQ/E2OVroTmDu2QEfGmGNFS/jU0e2JNo7yBhE24ozbC9uyJabqRX6+WdkCtFk1b1GqBWi2atpi3KV+rRatF8wsk/snIyBwQ0h+1xMZMd/HCo91Tq0VT0y61WjQ17dKWWtrO1/diqt8efqi/vqfZOoyufG3r63tGqrWBsvWXXTVaC5ifLU/MSLU2tFo0WhFaLRoadqHV0qbx/v37ouNFYUNCzb/rrSF48eJFWurS4IBA+QnoFoBWS5vGw4cPl9X962mtFmd8+vTp6JHaf9Ss1VI//tfUIuje1VOrpSH06O71T1XL+IixBfn5zfeDdW1TLfKz+u7Cxw8f3v39FzMxCK2WhuBaLc6L+TVws1omRU7kZGQvTFu69NFPPxml7oMb1cI5Xl1VJem//vpLEk3A/Xv3V6/KMjJfgp1BC3cXnj933sjUwayWr5nq16OyolISrTsNM1yrxXkxvwZuVgtgQefMmtXp2w4dv/k2NmZ6RXm5UeFwPHnyBC3VS5t7Z6PUgh2nJqds37YtavKUvNxco/Qz1q9bl5SY+Pjx4+FhQ/16+Pzyyy8U3r17l8kvz8xMjE8ggvz48aM0/vDhQ3paWnTU1D49e02bOvWPP/6QchqwQRBaSFZsiD9zc3LmJyRkLsuYOiWqqtKwMFDvoGY8e/YsODDox1M/SlY6FLVcvnx51Mhw1oo5nD1zVhqAhuYGSi9ezN2Yc+vWrUkTIjt37MSIRcePG3X1gZbxcfOyV69muRLmxa9cvsL8u9D01r9fyPv37+fOnkNv50pKjAoTXNy7glIaN/vg/n1Ju4aLe3ShlnoX0/U9uob71SJgolmrVsmX+IYPHXam+AyFeGjr166rl1cuX5ELXcO+Wt68ftOnV2+mQRpPybtb98Jdu9+9e/fixQumgcfIxGbPnAV59t8NG/78+XPE3DMwiMBaepgza/aKzOUqvW/vXhIi+P379pN+/fr12DERbApent2GDBw0LDTswvkLlCOexQsX1V5Wp1iGfv7zzw0NKs0EV2tqQur+u6K/r9/Q0FA6lN8rxyBmTo9NXryEyYOoyZMp4V7kqnrnBlB+kH8Ag7JZMI2aK1cC/Py6e3Yzm5oZqJFamkkW28KqRoeH48yQZe/gTllSrHZh0gJ1sxbUe++Sffr0aVLifGp53ClLlrC2cXPmYsrc49o1azw7d5FNh4XCmZe1unnzplzb0D2ChtRS72K6vscvornUInj79u2USbXfyOGQMYq+DvbVwg4X/t0II+NwzJsbx5PGbgYNGEiW7aRvr948oadPnkgDEB8Xh0UaGYcjf1M+LiW+E2ZByz///FPKA/38ed6SBnTLwzYyDseDBw84V5UMeAw+Xt50RbreQS0Qa7hUesnI1wGDmD4tRm3JPHLaiEfX0NwYq0snD5oxogojd+2s/crRzRs3JGtB6KDBs2bMNDJ14OjjXrYUbCbNECic7PfHjkmtM1zcO3uQv4/vkcOHpQpw7DMZtfFj0GuysyUNrl6t/TaaqMX1+rs4W5wX0/U9fhHNpRaWbN2atfIlPvbdUydPUojl8eTqhX1x21QLDhLbhpFxOLZu3sKKMwEj73CMHzuONkam7qzv6tEZUbHnsY/iLy1NSWW3w+wO7N+/dcsWo12dPHCojIxkTQ+PquCAQB481y5auHDRggUkio4XSa1lUGfIAy4vKzPydcAgZGcVsEeqNg3NDWlhcPhLmwsKpApgzVxYcva/XpwCHhFVzv5w2JDQkcO/kzS32cWjs3kNLXBx73hlgwfW7lMKeESMqNTC3m9eRnRCLatB2vX6f1EtajHt3KNruF8tl6urxa9lZqwRG4PaFGX29dLtccu4iAiObyPjcOzcvoMtBJ/byDscMdHRMdHTjIzDced27QdWbly/buTrA7syQuLWzLO1qGVm7AxztxZYBnVGQ2ohWjUydb6Kc5t650agYs6yj3KhMlAzeExUOZsd2vbx9pY0GzA+p6TrRUP3jsBYfPwuI18HXGXzZFyoRaHee7SvFjv36BpuVgsDM6FuXbqmJCezkxmln8FjZkXqpdvjFjZjIjwlD8yU0FPSApxDdnojU/ckmPnBAweM/N+B4Dlz2Cxx+nk8LtSCy0SJ2iAssAzqjIbUYh7RohbXc3O+sF61EORQhatm5D9jxPDhYYOHSJquaCPpetHQvTMxLiQ6N/J1wJswTyakbz/zMlZWVFKr1OLiHu2rxc49uoab1cKOjp/KtmHk3Q37agH5eZvGhI/avm0b/kBmRga+llFRB4vh8hiIUtjh1HswwBOVFyaZyzKIaqTQtVo2rt/AI7G8enr58qUkmqYWi9H//PPPtFEvc13PDRfUyLhUC8BTSpgXb2TqwLTZyFlGyX5RLS7uHXPEi3v86JEUAstkhocN5dyQNCgtLaVWqcXFPdJM/HxnOC/mF+/RNdysluaGfbVkZ61mXTgx3r6tf/IYbsToMUamDjkbNrK4kePHV1VWPnv27FxJCZslAZhEnFdramjDUyR6Jqp5+vSpxFrYAVkSyIylB0RrxEioFOMgumUmEukC50EtePXqFWPJZkl8Igq3qEWMQCJg13ML8g8geqy9pg6yx58pLjbyf0fNlSs4JOo1FNs5pzHaVtuHqEVF285wce+lFy/ijHEjRE30QOcnT9R+iFCphaAfX4CV5+72FBbiw9feY90LCdf3SFVDLx6cF/OL9+ga7VYt7CKjRoaz7teuXcPi1ftW8PTJEx5h7+CeHCaE8nm5ufL3Hqwdj5lyltjfx5cq+Ut6nha+pb+vH9sbT5dwyKNDR4QkS8zJ3tWjM4fq7JmzHj9+TMmjn37C62DHoln4iJHFp0+7GNQZjEJ4MGlCJAZENMXBRVchffquWrHixYsX9+/dJwBghuwFmE5Dc8MN5jjFQPv26o1g0AlmKhcypWNH6zcvhqOf1auyCvLzFyYtYPsQuXL57l270DmX04ApsapyiQX13rugorwcu2RKPl7eOMb76762rNTCUnPLlAzoF3Lq1ClOTm6KrjipGrpHOp83N07uiAcn/VhgXkzugpKG7tEO2q1aXv76a3zcPJZSsWdgEK4Cknj3++88G/tr5BY0bVC2TzyW3377zcjXnWDy1OnKvAVYQDMuVCDOJoQzMm/euLiwXnAaIFQ3/hMSwDR4KEotTQB3xI0wN7pqyINwL9qnWpAEGznEoSKNmbKjcCJzYjTk42q0ML5eLS2P9qkWDllOaiNjAm60+VWsRitCq6XZYVMteFwDQ/rL6ywF4s6oyVOI9oy8RquCMF2rpXlhUy246Tu37yBGXJG5fNvWrbkbc9ZkZ/Mn+5nRQqNVcfDAAfkFgYjRY9z4b4SbG+1TLRoazQGtFg0Nu7ClFt+St0/+/e+2wITLr8oe/WIp1NRsGSZVv7D19T3LJy5bi/rLrpqtSP0dZE1Nu9Rq0dS0S60W97DoxMmpUVM9O3dRvxuu2f6o1eIeXr1+Iz4+ocPnH7DWbJfUanEbT/14WqulfVOrxW38olrkF/o1/7nUanEbv6gWAhsXP5mv2fbpZrUEBwZhMc6cOCGSWizJUq6YtSrL3E9DbJRaaq5dnzVzVtzcuHlx8yZPnFRWUWlpAO/efyCJo8e+t2nKpWXlUyZPGTd2nI+Xd3Jyiip3rZb9Bw52/OZb+U1gNeiOHTuRUHpaOmSJ1q1br6o02yDdrBaMPjV1qTM3b9lKLbZiKVf8/ofj5n4aon213L57L3TwkIKCzZJdu3Zd2JBQszaw+MSExNSU1Njpsenpy4YMGsz0ThefmTljJka/c+cumhWfLVmaurRXcE8vz25yIdF8SN9+xWfOks7NzaPl+QsXpcqFWnJycrt39aS2Z1DwoAEDJ02cRCFrRbb6s3uGtul5fuJ8yWq2QbZbT2zDho39evdR2eNFtf8LnD9Jb9u2Hds9W3JOqjhSkAq1svFfuXqN9IGDh6QWLl++Qqll8eIlY0aPkTQ90PLQ4SOSdX22iLSUXDnoOnfslJ29RjWAW7dtp03RiZPmQs22Qzerha0Xm3Pm9Zu3qMVWLOWKNr0g+2oJHzFyWNjQxYsWc4DMiJ0xZ/YcEidP/chA3t26456ZG2dlrcZMmQZp/jRroLZ2VRYepqQTE+fjU0laHMvDR45K1o5aVBaniyyXqBJ4uab2cw0LkhaYCzXbDttt3NKju9fKlasshRDjZrj16zeYC4kfKLSjFiGyx1UjFqKlsvhGqYUzqt7GHh06ip+m2QbZbuMWfK3YmOmWQrin7lMjK1asNBfu27efQlFLWXkFabNa0tLSzWohwBgXMXbNmrWcVLRsmlq4nKzEP4rXbtR+oDF+Xry5ULPtsN3GLaPCR3X16GyxXULqyqrqTt926N8vxOz7cVBgpsbZcu066e3bd6ja5LpPXUmaq3DwCIpIizyUWuTUwpuSrIUWtaBJjpGNG3NUCdy1azdtbG4cmi3PdqsWbLfjN9/2Cgompsc0ie9jpsVI7M5RhlES2IihI4Ck+UmUiFpg/779Ro0MJ4g/XXyGg2XQgIH+Pr4SenEoeXbugid2++69jIxMrsKpK71URhXHEdmKyirpxELkR62ot7zuXXb26uy+vfsgTmlAYkBIfzw0yWq2QbZbtcB9+w/Iyy7sO3JCJKYv5dg6m3q/uh/3CAoIjJ0em7wkmbRSS9GJk3169aYERXFVevqynkHBMdHTTpw8hYkjwn69+8TNjTt48BCddOnkgaKyslZ/N2w4l0RNidq5a7f0Yyadc6AF+gdEjIlQARUtaV/79y3py6ZFT1PvuzXbJtuzWuzT7Ik1jVev3+CMgnQip5Bm+6NWSy2/Xi2a/wvUaqmlVoumHWq11DJvU75Wi+YX+b+ulms3bmZkZA4I6Y9aYmOmF58tsTTQ1FTUZ4umpl1qtWhq2qUttfiWvH3fNhB75ffD/3pnZDQ0Whax1W9tfX3PSLU2ULb+sqtGawHzs+WJGanWhlaLRitCq0VDwy60Wv4ZePHiRVrq0uCAwIZ+G16jBdBcaklKTOzw+ceX3Yj/WbV8+vTp6JHaf+Os1dKK0Gr5J6FHdy+tllaEVosryO/ltx24VsvHDx/c+yPdGhY0l1pSk1NQC86DkXcTWlItf/755+yZs4xM24BrtRTuLvwH/YbjPxHNpZY12dmo5eyZs0a+Dk+ePKGwXm7butVo5BKNUkvpxYu5G3Nu3bo1aUJk546d/Hr4FB0/btTVgar4uHnZq1fn5eYmzItfuXyF+WeQ161ZOyw0TNJ//fWXJMygMDcnZ35CQuayjKlToqoqK40KE9SFz549e3D/vqRd48OHD+lpadFRU/v07DVt6tQ//vjDqHCpFvoPDgxSPxEs4758+TItdWna0qX5eZuWpqRys48fP5YGGk1Ac6kF60cD1VVVRr4Ob968Wb92Xb28cvmK0cgl7Kvl7t27Qf4B4yPGRk2ecv/e/ZorVwL8/Lp7dlPGd/nyZbKUSxbzwphGh4fjz5BdsmgxAoMDQ/qjGVQhzcxYlpa+eOEiSTOEd7fuz3/+WbJPnz5NSpxPLbeWsmTJiszlcXPmYsqvX79eu2aNZ+cuXEszFqQgP59JslY3b96Ua+fMmr1v714Ssrns37dfykFDarlaUxNS919B/X39hoaGMmEGwo2kcEvBZqORw0G3/j6+jx89MvIajURzqeXwocM8vHv37hl5N8GmWjgiunTyYAJ9e/VWv/q9a2ftZ5Bu3rgh2dBBg2fNmClpwS+//NLp2w7KvAi9xkVESNoZDx48oPHz588li8Z8vLzzN+WTfvjwIUZ55PBhqQLil6qNH4Pm7JU0uHq19jNiopYL5y+gJZxAqQr080dvkgYuzhaR1qXSS0be4eAw4XLVlWDIwEEx0dFGRqORaC61nCk+w8NTe63g06dP2G69kB39i7CpFg4KTJCTYXNBgVFUZ99MqeRsrXOIU0Ta2f0LGxI6cvh3kkYt48eOk7Qz1q9bFxwQiNFzSixauHDRggUkio4XUYVXNnjgQGkmwOVjOKUW9n6zBtAJtZg76QP792/dskXKQZ9evRnIyNhQS3lZmZGvU1pszHQj8xl4ZYj8t99+M/IajUFzqeVydTUPz+xzgxaOWwhUzN1ydDCQmCxbOGlny5sUOdHH21vSrtUyM3ZGTPQ0I2MCOwLmiN9l5Ovw5vUbNTRwoRYFzkBCDgRvvgX7avn48SNZbkGyCgRylN++ddvIazQGzaUWokm1SStwhmAl9dLtcQtgYzabGqMrkyWqIY1vJlUKI4YPDxs8RNKu1TJ9Wgz9qyBegQ2CnonOjXwdODnV0CCkbz9uWdKgsqKSWqUW+iTO4bCiK+TRNLUAvEHnd3rLM2u/6kT0b+Q1GoPmUkszobFq2br5v16NWS0AZylhXrykBdgQe3l+3ibJulbLxvUb6M3ykk2sEL118ehsDqYtQw8PG8q5IWlQWlpKrVJL5rKM+Lg4SVvUQrNTJ08amb/DWS0pycl9evbirDPydRg+dFjU5ClGRqORaC61FOTn42+UXfrvw3MLGqWWIP+AdWvWGpnPu/6Z4mLJ1ly5gtOl3kSxo89PSEAe+DBSgkH3/Xx6WAIwgDAIDIjIt2/bhjCI7LOzVkuUX3rxIs4YWiVGIsimh5Mnar/wr9RC0B8cGFRVWYmJ7yksJM6hVl4/SMR/taaGNCrq0skD0T59+lTiOqq+P3astgsnvHr1ilo5eV6/fv3hwwf+7N8vpHB3oTQABEWM+69//cvIazQSzaUWQl6zfbgLNtVCQJ+ZkYHJYu4IBp1guMQSTCl8xMhjRw2Du3P7Nrv46lVZaHth0oKcDRsxMqkCyMnXuwcHRUx0dL1/6/fop5/wuDiOPDp0pNvi06eNCoejorwc4TEBHy9vLt9f9/FltRpY9qQJkZQM6Bdy6tQpPDF/Xz+64qRCLd26dCXLxGg/Z9ZsOsfro/N5c+Nk/uhT+rGAS7w8u9EzapSIkYE4YYjsNxcUcGSlLFniLHsN+2gutTQTbKqF8wHnRwFv5P3790bmzZt376z//a25waBfuXcwf6bNSUVXb9+2lcfxv4b2qZa2hq9Xi0ZbgFZLS0CrpX1Aq6UlQJiu1dIOoNXS7Dh44EB01FTUEjF6jP43wv9oaLVoaNiFVouGhl3YUkvYpd8RTFtghx/fdC62Fmpqtgwxv6W3//ZPH4FVLRoaGg1Bq0VDwy60WjQ07EKrRUPDLrRaNDTsweH4/2fsPxCU8hGUAAAAAElFTkSuQmCC)"
      ],
      "metadata": {
        "id": "Pa4vUuwcQokf"
      }
    },
    {
      "cell_type": "code",
      "source": [
        "x = 12\n",
        "y = 10\n",
        "print(x == y)\n",
        "print(x > y)\n"
      ],
      "metadata": {
        "id": "0Q3VFKQ5QKt5"
      },
      "execution_count": null,
      "outputs": []
    },
    {
      "cell_type": "markdown",
      "source": [
        "## Using libraries/packages in Python\n",
        "\n",
        "A lot of the times, the gerneral functions and operations are not enough. We have to call on other libraries to provide us with the appropriate tools for the programs. Most commonly used data science libraries in Python are pandas, numpy, and geopandas."
      ],
      "metadata": {
        "id": "cDIprBlxbEjL"
      }
    },
    {
      "cell_type": "code",
      "source": [
        "# we can square a number: 4^2\n",
        "4**2 "
      ],
      "metadata": {
        "id": "hlVKtQJJbgCz"
      },
      "execution_count": null,
      "outputs": []
    },
    {
      "cell_type": "code",
      "source": [
        "# but can't find the square root:\n",
        "sqrt(16)"
      ],
      "metadata": {
        "id": "djbTlvdZPUdR"
      },
      "execution_count": null,
      "outputs": []
    },
    {
      "cell_type": "code",
      "source": [
        "import math\n",
        "\n",
        "math.sqrt(16)"
      ],
      "metadata": {
        "id": "Pi-P3S04AiH3"
      },
      "execution_count": null,
      "outputs": []
    },
    {
      "cell_type": "markdown",
      "source": [
        "more information about Python's math library here: https://docs.python.org/3/library/math.html"
      ],
      "metadata": {
        "id": "dS3uNSXi3fsp"
      }
    },
    {
      "cell_type": "markdown",
      "source": [
        "## Control flow (if/else statements)"
      ],
      "metadata": {
        "id": "1ttRLb1Xlppi"
      }
    },
    {
      "cell_type": "markdown",
      "source": [
        "In control flow, we check if certain conditions are True/False and then do actions based on those conditions. There are also key words like \"and,\" \"or\", and \"not.\" In data analysis, conditionals are very usefull in filtering data. if, elif, else"
      ],
      "metadata": {
        "id": "NwnXua0_HS4v"
      }
    },
    {
      "cell_type": "code",
      "source": [
        "x = 12\n",
        "y = 100\n",
        "if x == y:    #try: <, >, != \n",
        "  print(\"condition is met\")\n",
        "else:\n",
        "  print(\"condtion not met\")"
      ],
      "metadata": {
        "id": "LJCRUIRsHRfR"
      },
      "execution_count": null,
      "outputs": []
    },
    {
      "cell_type": "markdown",
      "source": [
        "## Python Data Structures\n",
        "### List:\n",
        "A list is collection of objects. \n",
        "<br>So far we have talked about a variable representing a single value, but a variable can also hold a collection of values. We represent a list by using square brackets \"[ ].\" Some useful list functions: append, sort"
      ],
      "metadata": {
        "id": "z32IxzfmnqPn"
      }
    },
    {
      "cell_type": "code",
      "source": [
        "x = [10,20,30,45,50]"
      ],
      "metadata": {
        "id": "NCcY6R_EkINs"
      },
      "execution_count": null,
      "outputs": []
    },
    {
      "cell_type": "code",
      "source": [
        "print(max(x))\n",
        "print(min(x))"
      ],
      "metadata": {
        "id": "QqzELUE0DiLv"
      },
      "execution_count": null,
      "outputs": []
    },
    {
      "cell_type": "code",
      "source": [
        "print(len(x))\n",
        "print(x)"
      ],
      "metadata": {
        "id": "2ryK0vqPkP4j"
      },
      "execution_count": null,
      "outputs": []
    },
    {
      "cell_type": "code",
      "source": [
        "x.append(\"Noor\")\n",
        "print(x)"
      ],
      "metadata": {
        "id": "F9_ctjDSloM1"
      },
      "execution_count": null,
      "outputs": []
    },
    {
      "cell_type": "code",
      "source": [
        "# Indexing of the list:\n",
        "print(x[0])\n",
        "print(x[2])\n",
        "\n",
        "print(x[-1])"
      ],
      "metadata": {
        "id": "HsLBcBMbnzQa"
      },
      "execution_count": null,
      "outputs": []
    },
    {
      "cell_type": "markdown",
      "source": [
        "### Tuple:\n",
        "A tuple is an immutable list, meaning, you can't make changes to it once it has been created. Really useful for maintaining data integrity."
      ],
      "metadata": {
        "id": "RMDnvNFXnIfw"
      }
    },
    {
      "cell_type": "code",
      "source": [
        "a_tuple = (1,2,3,4,5)"
      ],
      "metadata": {
        "id": "d_hbhu9JFrIa"
      },
      "execution_count": null,
      "outputs": []
    },
    {
      "cell_type": "code",
      "source": [
        "a_tuple.append(12)"
      ],
      "metadata": {
        "id": "B7FgX0PNmGh1"
      },
      "execution_count": null,
      "outputs": []
    },
    {
      "cell_type": "code",
      "source": [
        "type(a_tuple)"
      ],
      "metadata": {
        "colab": {
          "base_uri": "https://localhost:8080/"
        },
        "id": "UroFFTFnFu18",
        "outputId": "712bc28b-af0c-43a0-ba07-6d552783039e"
      },
      "execution_count": null,
      "outputs": [
        {
          "output_type": "execute_result",
          "data": {
            "text/plain": [
              "tuple"
            ]
          },
          "metadata": {},
          "execution_count": 7
        }
      ]
    },
    {
      "cell_type": "code",
      "source": [
        "# a list can contain any object type, and even lists!\n",
        "list2 = list([1,2,3,[1,2,3]])"
      ],
      "metadata": {
        "id": "t5GTsDjPF2Ni"
      },
      "execution_count": null,
      "outputs": []
    },
    {
      "cell_type": "code",
      "source": [
        "# indexing a list, in Python index always starts from 0.\n",
        "a_list[2]"
      ],
      "metadata": {
        "id": "0pgOr_c5GK1W"
      },
      "execution_count": null,
      "outputs": []
    },
    {
      "cell_type": "code",
      "source": [
        "# indexing and slicing"
      ],
      "metadata": {
        "id": "942JYZLrYqMa"
      },
      "execution_count": null,
      "outputs": []
    },
    {
      "cell_type": "code",
      "source": [
        "\n",
        "a_tuple = (1,2,3,4,5)"
      ],
      "metadata": {
        "id": "49x2S_myRCV8"
      },
      "execution_count": null,
      "outputs": []
    },
    {
      "cell_type": "markdown",
      "source": [
        "### Dictionaries are a key-value pair that maps the key to its associated values. \n",
        "In data science, we often end up using the key as column label and the values as column arrays."
      ],
      "metadata": {
        "id": "En62VM1JVoiV"
      }
    },
    {
      "cell_type": "code",
      "source": [
        "a_dict = {'a': 1, 'b':{'a':1, 'b':2}}\n"
      ],
      "metadata": {
        "id": "sAewWY1TVoGE"
      },
      "execution_count": null,
      "outputs": []
    },
    {
      "cell_type": "code",
      "source": [
        "a_dict['b']"
      ],
      "metadata": {
        "id": "TkeM1YzPmUP9"
      },
      "execution_count": null,
      "outputs": []
    },
    {
      "cell_type": "code",
      "source": [
        "print(a_dict['a'])  # notice that it is similar to indexing in tables."
      ],
      "metadata": {
        "colab": {
          "base_uri": "https://localhost:8080/"
        },
        "id": "zhzLASeHWB4G",
        "outputId": "f47313c8-2226-42e3-f635-44ec2757043c"
      },
      "execution_count": null,
      "outputs": [
        {
          "output_type": "stream",
          "name": "stdout",
          "text": [
            "1\n"
          ]
        }
      ]
    },
    {
      "cell_type": "markdown",
      "source": [
        "## For loops and while loops\n",
        "\n",
        "Think of loops as repetitions. The key difference between for loop and while loop is that in for loops, we set a value that will end the repetitions, but in while while loops we set a condition for the repetition to stop."
      ],
      "metadata": {
        "id": "s_IhTwP-nfdG"
      }
    },
    {
      "cell_type": "code",
      "source": [
        "for i in range(1,10):\n",
        "  print(i)\n",
        "  #print(\"hello, world\")"
      ],
      "metadata": {
        "id": "Qg_A6AP8UtMz"
      },
      "execution_count": null,
      "outputs": []
    },
    {
      "cell_type": "code",
      "source": [
        "# we can loop over a list:\n",
        "a_list = [1,2,3,4,5,6]\n",
        "for i in a_list:\n",
        "  print(i)"
      ],
      "metadata": {
        "id": "hxovSHJhXL1Q"
      },
      "execution_count": null,
      "outputs": []
    },
    {
      "cell_type": "code",
      "source": [
        "# while loop\n",
        "x = 5\n",
        "# while x > 1:\n",
        "  # print(x)\n",
        "  # x =x + 1"
      ],
      "metadata": {
        "id": "tVAw963EU5ik"
      },
      "execution_count": null,
      "outputs": []
    },
    {
      "cell_type": "markdown",
      "source": [
        "## Functions"
      ],
      "metadata": {
        "id": "iVElnfjJnyD9"
      }
    },
    {
      "cell_type": "markdown",
      "source": [
        "<p>A function is a block of codes that only run when the name of the function is called. Key features of a function: arguments, \"return\" <p>\n"
      ],
      "metadata": {
        "id": "-OKCKvCsR4xm"
      }
    },
    {
      "cell_type": "code",
      "source": [
        "def greet_person(x):\n",
        "  print(\"hello,\"+ x)"
      ],
      "metadata": {
        "id": "s38SlvIgEouZ"
      },
      "execution_count": null,
      "outputs": []
    },
    {
      "cell_type": "code",
      "source": [
        "def difference(a, b):\n",
        "  c = a-b\n",
        "  return c"
      ],
      "metadata": {
        "id": "Kk-RY2fVovFY"
      },
      "execution_count": null,
      "outputs": []
    },
    {
      "cell_type": "code",
      "source": [
        "print(difference(10,500))"
      ],
      "metadata": {
        "id": "ewvMNfxOFAVa"
      },
      "execution_count": null,
      "outputs": []
    },
    {
      "cell_type": "code",
      "source": [
        "print(difference(100,5))\n"
      ],
      "metadata": {
        "id": "s06EfiLio1Qz"
      },
      "execution_count": null,
      "outputs": []
    },
    {
      "cell_type": "code",
      "source": [
        "# a function that prints the area of a circle with entering the radius\n",
        "\n",
        "def area_cir(radius):\n",
        "  area = 3.14*int(radius)**2\n",
        "  print(\"The area is \" + str(area))"
      ],
      "metadata": {
        "id": "yfeUcyPAoyAT"
      },
      "execution_count": null,
      "outputs": []
    },
    {
      "cell_type": "markdown",
      "source": [
        "## Data analysis exercise 1:\n",
        "In this exercise, we will do some data manipulation with the New County Census data. We will load the population and filter to get only the county populations greater than 100,000."
      ],
      "metadata": {
        "id": "yNKo_VLrXfIQ"
      }
    },
    {
      "cell_type": "code",
      "source": [
        "# NOTE: Do not worry about this bloack of code. I am just reading a csv a file containing the data. \n",
        "# In order to read the CSV data file into your code, make sure to upload the CSV file to the file directory \n",
        "# of your Colab notebook on the left side.\n",
        "\n",
        "# in order to access the csv file, use this link: https://github.com/MahmudN/Intro_to_Programming/blob/main/NY_County_Census.csv\n",
        "# there click on \"Copy raw contents\" and then paste into Notepad and save the file as a CSV.\n",
        "\n",
        "# here, I am only reading the \n",
        "import csv\n",
        "with open(\"NY_County_Census.csv\", \"r\") as csvfile:\n",
        "  csvreader = csv.DictReader(csvfile)\n",
        "\n",
        "  pop = []\n",
        "  for row in csvreader:\n",
        "    pop.append(row['POP'])"
      ],
      "metadata": {
        "id": "t2hBMDcwdIDU"
      },
      "execution_count": null,
      "outputs": []
    },
    {
      "cell_type": "code",
      "source": [
        "print(pop)"
      ],
      "metadata": {
        "id": "snMoQvLgen8s"
      },
      "execution_count": null,
      "outputs": []
    },
    {
      "cell_type": "code",
      "source": [
        "# By using this list, I would like to get a list of county populations that are grater than \n",
        "# 100,000. Only problem is that all the values are String:\n",
        "print(pop[0])\n",
        "print(type(pop[0]))"
      ],
      "metadata": {
        "id": "mwiOTkpL1TRY"
      },
      "execution_count": null,
      "outputs": []
    },
    {
      "cell_type": "code",
      "source": [
        "# This means we can't check whether the number is greater than 100,000. \n",
        "# so if you run this code, you should get an error.\n",
        "print(pop[0]>100000)"
      ],
      "metadata": {
        "id": "YtPzxqRl7ItC"
      },
      "execution_count": null,
      "outputs": []
    },
    {
      "cell_type": "code",
      "source": [
        "# so we will iterate over the whole list, turn the value types from str to int\n",
        "# and then check if the value is greater than 100,000. If value > 100,000, then\n",
        "# that value will be appended to a list called 'large_pop'\n",
        "\n",
        "# empty list:\n",
        "large_pop = []\n",
        "\n",
        "for i in pop:\n",
        "  int_i = int(i)\n",
        "  if int_i > 100000:\n",
        "    large_pop.append(int_i)"
      ],
      "metadata": {
        "id": "MJRO0UpS7ZsS"
      },
      "execution_count": null,
      "outputs": []
    },
    {
      "cell_type": "code",
      "source": [
        "# we now should have a list containing the populations greater than 100000\n",
        "print(large_pop)"
      ],
      "metadata": {
        "id": "0QcpTvtoWy7f"
      },
      "execution_count": null,
      "outputs": []
    },
    {
      "cell_type": "markdown",
      "source": [
        "## Resources for Beginners:\n",
        "1. https://www.w3schools.com/python/default.asp\n",
        "2. https://www.linkedin.com/learning/\n",
        "3. Book: *Python for Data Analysis*\n",
        "  <br> https://www.amazon.com/Python-Data-Analysis-Wrangling-IPython/dp/1491957662"
      ],
      "metadata": {
        "id": "GIxRdeuYhd8a"
      }
    }
  ]
}