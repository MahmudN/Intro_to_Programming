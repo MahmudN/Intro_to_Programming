{
  "nbformat": 4,
  "nbformat_minor": 0,
  "metadata": {
    "colab": {
      "provenance": [],
      "authorship_tag": "ABX9TyPtlR4FfGGXqQ6RRIJ1HRYV",
      "include_colab_link": true
    },
    "kernelspec": {
      "name": "python3",
      "display_name": "Python 3"
    },
    "language_info": {
      "name": "python"
    }
  },
  "cells": [
    {
      "cell_type": "markdown",
      "metadata": {
        "id": "view-in-github",
        "colab_type": "text"
      },
      "source": [
        "<a href=\"https://colab.research.google.com/github/MahmudN/Intro_to_Programming/blob/main/Copy_of_Intro_to_Python_3.ipynb\" target=\"_parent\"><img src=\"https://colab.research.google.com/assets/colab-badge.svg\" alt=\"Open In Colab\"/></a>"
      ]
    },
    {
      "cell_type": "markdown",
      "source": [
        "# A Gentle Intro to Programming with Python\n"
      ],
      "metadata": {
        "id": "AhwcYL9LazZc"
      }
    },
    {
      "cell_type": "markdown",
      "source": [
        "## Principles of Coding\n",
        "### What is a computer program?\n",
        "A program is a set of instructions for the computer. When we run a set of codes, they are compiled (turned into machine codes) for the computer to understrand. The computer then executes the code.\n",
        "\n",
        "### Executing/runing our first code:"
      ],
      "metadata": {
        "id": "QGDB54DMa-pc"
      }
    },
    {
      "cell_type": "code",
      "execution_count": null,
      "metadata": {
        "colab": {
          "base_uri": "https://localhost:8080/"
        },
        "id": "gv-pXLH_ahth",
        "outputId": "5c039e04-608a-4397-a315-a2dc5fe64177"
      },
      "outputs": [
        {
          "output_type": "stream",
          "name": "stdout",
          "text": [
            "Hello, world!\n"
          ]
        }
      ],
      "source": [
        "print(\"Hello, world!\")"
      ]
    },
    {
      "cell_type": "code",
      "source": [
        "print(\"Today is Wed\")"
      ],
      "metadata": {
        "colab": {
          "base_uri": "https://localhost:8080/"
        },
        "id": "ges8KvvhnuFg",
        "outputId": "392515ff-17aa-43dd-b7a8-7c107e4efc91"
      },
      "execution_count": null,
      "outputs": [
        {
          "output_type": "stream",
          "name": "stdout",
          "text": [
            "Today is Wed\n"
          ]
        }
      ]
    },
    {
      "cell_type": "markdown",
      "source": [
        "### Commenting\n",
        "We can use '#' to make a line of comments. Anything on the right sid of # won't be read by the compiler. You can also comment a chunk or multiple lines of code by enclosing with a tripe quotation. Example:\n",
        "```\n",
        "\"\"\"\n",
        "This is for \n",
        "commenting \n",
        "over multiple lines\n",
        "\"\"\"\n",
        "```"
      ],
      "metadata": {
        "id": "zFJGI58z77eg"
      }
    },
    {
      "cell_type": "code",
      "source": [
        "# printing multiple lines:\n",
        "print(\"Hello, World, \\nThis is my first code!\")"
      ],
      "metadata": {
        "colab": {
          "base_uri": "https://localhost:8080/"
        },
        "id": "_itI1uk6KK0t",
        "outputId": "6d8d30c3-e75a-4bb5-dfe7-66a92bcacf41"
      },
      "execution_count": null,
      "outputs": [
        {
          "output_type": "stream",
          "name": "stdout",
          "text": [
            "Hello, World, \n",
            "This is my first code!\n"
          ]
        }
      ]
    },
    {
      "cell_type": "code",
      "source": [
        "# this code does the same as code code above:\n",
        "print(\"Hello, World,\")\n",
        "print(\"\")\n",
        "print(\"This is my first code!\")"
      ],
      "metadata": {
        "colab": {
          "base_uri": "https://localhost:8080/"
        },
        "id": "rr-SONZ_PqaV",
        "outputId": "95d79a28-2c37-4577-ccfe-e38c67807bbf"
      },
      "execution_count": null,
      "outputs": [
        {
          "output_type": "stream",
          "name": "stdout",
          "text": [
            "Hello, World,\n",
            "\n",
            "This is my first code!\n"
          ]
        }
      ]
    },
    {
      "cell_type": "code",
      "source": [
        "# printing with indentation:\n",
        "print(\"Hello, World, \\tThis is my first code!\")"
      ],
      "metadata": {
        "colab": {
          "base_uri": "https://localhost:8080/"
        },
        "id": "iCvgrGWxKtHN",
        "outputId": "c8b1e9e6-6897-4357-c23c-b070193387e3"
      },
      "execution_count": null,
      "outputs": [
        {
          "output_type": "stream",
          "name": "stdout",
          "text": [
            "Hello, World, \tThis is my first code!\n"
          ]
        }
      ]
    },
    {
      "cell_type": "markdown",
      "source": [
        "\"\\n\" and \"\\t\" are special commands to format the outputs of \"strings.\" A string is a sequence of literal characters. We normally use strings for human languages."
      ],
      "metadata": {
        "id": "vBvJxBezK4Su"
      }
    },
    {
      "cell_type": "markdown",
      "source": [
        "$$A_{circle} = \\pi r^2$$"
      ],
      "metadata": {
        "id": "AHOMAVKTGUrO"
      }
    },
    {
      "cell_type": "markdown",
      "source": [
        "## Variables\n",
        "Variables are used to represnt \"anything\" in your code. In Python, and most other languages, variable names should start with letters and use \"=\" to set the value. Example: x = 12"
      ],
      "metadata": {
        "id": "ngHCkSJVbiPk"
      }
    },
    {
      "cell_type": "code",
      "source": [
        "x = 12\n",
        "print(x)"
      ],
      "metadata": {
        "id": "7bu3Y_-6awK8",
        "outputId": "f3d0ebcb-8d68-4d28-8461-143eda6fe28e",
        "colab": {
          "base_uri": "https://localhost:8080/"
        }
      },
      "execution_count": null,
      "outputs": [
        {
          "output_type": "stream",
          "name": "stdout",
          "text": [
            "12\n"
          ]
        }
      ]
    },
    {
      "cell_type": "code",
      "source": [
        "y = 300\n",
        "print(x+y)"
      ],
      "metadata": {
        "id": "M8XFyNV_btfd",
        "colab": {
          "base_uri": "https://localhost:8080/"
        },
        "outputId": "9483178a-38db-43f3-fabf-072fb56cc43d"
      },
      "execution_count": null,
      "outputs": [
        {
          "output_type": "stream",
          "name": "stdout",
          "text": [
            "312\n"
          ]
        }
      ]
    },
    {
      "cell_type": "markdown",
      "source": [
        "Variables can store more than just numbers. They can also store strings, lists, dictionaries, and classes. More importantly, in Python, variable values can be reset."
      ],
      "metadata": {
        "id": "qSH7gxKkMkyB"
      }
    },
    {
      "cell_type": "code",
      "source": [
        "x = 12\n",
        "print(x)"
      ],
      "metadata": {
        "colab": {
          "base_uri": "https://localhost:8080/"
        },
        "id": "QvmCXt7RPC6l",
        "outputId": "2922f74c-bf04-4eb5-fc71-eeded3a2eba1"
      },
      "execution_count": null,
      "outputs": [
        {
          "output_type": "stream",
          "name": "stdout",
          "text": [
            "12\n"
          ]
        }
      ]
    },
    {
      "cell_type": "code",
      "source": [
        "x = \"Hello, world\"\n",
        "print(x)"
      ],
      "metadata": {
        "colab": {
          "base_uri": "https://localhost:8080/"
        },
        "id": "FmD35g7FPFmz",
        "outputId": "b254c42a-e604-4905-9b4b-eeea9aee6b70"
      },
      "execution_count": null,
      "outputs": [
        {
          "output_type": "stream",
          "name": "stdout",
          "text": [
            "Hello, world\n"
          ]
        }
      ]
    },
    {
      "cell_type": "code",
      "source": [
        "x"
      ],
      "metadata": {
        "colab": {
          "base_uri": "https://localhost:8080/",
          "height": 35
        },
        "id": "NLW9_LOUoPl5",
        "outputId": "1e01e79e-ac66-46d8-eb3a-d83d550dd071"
      },
      "execution_count": null,
      "outputs": [
        {
          "output_type": "execute_result",
          "data": {
            "text/plain": [
              "'Hello, world'"
            ],
            "application/vnd.google.colaboratory.intrinsic+json": {
              "type": "string"
            }
          },
          "metadata": {},
          "execution_count": 25
        }
      ]
    },
    {
      "cell_type": "markdown",
      "source": [
        "### Getting user input\n",
        "You can ask a user to type a value and store it into a variable by using the function \"input()\""
      ],
      "metadata": {
        "id": "jdF4RKTtP_7t"
      }
    },
    {
      "cell_type": "code",
      "source": [
        "x = input(\"Type a value for x: \")\n",
        "print(x)"
      ],
      "metadata": {
        "colab": {
          "base_uri": "https://localhost:8080/"
        },
        "id": "FgqmFkFqP-f8",
        "outputId": "eba81173-6135-483d-ece1-1456be0cf1d0"
      },
      "execution_count": null,
      "outputs": [
        {
          "output_type": "stream",
          "name": "stdout",
          "text": [
            "Type a value for x: 5000\n",
            "5000\n"
          ]
        }
      ]
    },
    {
      "cell_type": "code",
      "source": [
        "x"
      ],
      "metadata": {
        "colab": {
          "base_uri": "https://localhost:8080/",
          "height": 35
        },
        "id": "y_arRHpLoZko",
        "outputId": "f74072e8-ec14-43ec-f06c-88eed34ce694"
      },
      "execution_count": null,
      "outputs": [
        {
          "output_type": "execute_result",
          "data": {
            "text/plain": [
              "'5000'"
            ],
            "application/vnd.google.colaboratory.intrinsic+json": {
              "type": "string"
            }
          },
          "metadata": {},
          "execution_count": 27
        }
      ]
    },
    {
      "cell_type": "markdown",
      "source": [
        "## Types and operations:\n",
        "\n",
        "<p>Every piece of code in Python is an object. Common object types: integer, float (decimal), string, boolean. <p>\n",
        "<p> Common mathematical operations: +, -, /, *, **, % (addition, subtraction, multiplication, expoenent, modulo , respectively)"
      ],
      "metadata": {
        "id": "ytd7KtFhj2og"
      }
    },
    {
      "cell_type": "code",
      "source": [
        "x = 12.0\n",
        "y = 12\n",
        "z = \"12\"\n",
        "print(type(x))\n",
        "print(type(y))\n",
        "print(type(z))"
      ],
      "metadata": {
        "colab": {
          "base_uri": "https://localhost:8080/"
        },
        "id": "g9RFsxdIKSuE",
        "outputId": "f7f14964-6469-46f0-aefc-990fce831846"
      },
      "execution_count": null,
      "outputs": [
        {
          "output_type": "stream",
          "name": "stdout",
          "text": [
            "<class 'float'>\n",
            "<class 'int'>\n",
            "<class 'str'>\n"
          ]
        }
      ]
    },
    {
      "cell_type": "markdown",
      "source": [
        "In some cases we can change the type of the object ourselves. int() converts a number to an interger, float() converts a number to a float, string() converts a number to a string."
      ],
      "metadata": {
        "id": "73ElCrUlNFIB"
      }
    },
    {
      "cell_type": "code",
      "source": [
        "x = 12.0\n",
        "print(type(x))"
      ],
      "metadata": {
        "colab": {
          "base_uri": "https://localhost:8080/"
        },
        "id": "lMEQdVqtOTgp",
        "outputId": "645005ad-d9b7-40ec-a83f-31673569a400"
      },
      "execution_count": null,
      "outputs": [
        {
          "output_type": "stream",
          "name": "stdout",
          "text": [
            "<class 'float'>\n"
          ]
        }
      ]
    },
    {
      "cell_type": "code",
      "source": [
        "y = int(x)\n",
        "\n",
        "print(type(y))"
      ],
      "metadata": {
        "id": "lnmOb0isQH7R",
        "colab": {
          "base_uri": "https://localhost:8080/"
        },
        "outputId": "fe211f1b-589e-4962-b65f-40e63dc27607"
      },
      "execution_count": null,
      "outputs": [
        {
          "output_type": "stream",
          "name": "stdout",
          "text": [
            "<class 'int'>\n"
          ]
        }
      ]
    },
    {
      "cell_type": "code",
      "source": [
        "float(12)"
      ],
      "metadata": {
        "colab": {
          "base_uri": "https://localhost:8080/"
        },
        "id": "JvhmkeA7o1D4",
        "outputId": "95e23df7-f5cf-4f8e-9afe-b665c4f6a508"
      },
      "execution_count": null,
      "outputs": [
        {
          "output_type": "execute_result",
          "data": {
            "text/plain": [
              "12.0"
            ]
          },
          "metadata": {},
          "execution_count": 31
        }
      ]
    },
    {
      "cell_type": "code",
      "source": [
        "x = input(\"write something:\")"
      ],
      "metadata": {
        "colab": {
          "base_uri": "https://localhost:8080/"
        },
        "id": "U1T220M-pCU7",
        "outputId": "dae69838-32f5-4dee-ab04-eba73164e31f"
      },
      "execution_count": null,
      "outputs": [
        {
          "name": "stdout",
          "output_type": "stream",
          "text": [
            "write something:12\n"
          ]
        }
      ]
    },
    {
      "cell_type": "code",
      "source": [
        "type(x)"
      ],
      "metadata": {
        "colab": {
          "base_uri": "https://localhost:8080/"
        },
        "id": "HnRin3FcpYrh",
        "outputId": "509642dd-69a3-4c37-827b-0428ea841c0b"
      },
      "execution_count": null,
      "outputs": [
        {
          "output_type": "execute_result",
          "data": {
            "text/plain": [
              "str"
            ]
          },
          "metadata": {},
          "execution_count": 34
        }
      ]
    },
    {
      "cell_type": "code",
      "source": [
        "int(x)+2"
      ],
      "metadata": {
        "colab": {
          "base_uri": "https://localhost:8080/"
        },
        "id": "qFBnwnnxpbu5",
        "outputId": "1d36fd0f-5532-4aa5-fd9b-0e0749367acb"
      },
      "execution_count": null,
      "outputs": [
        {
          "output_type": "execute_result",
          "data": {
            "text/plain": [
              "14"
            ]
          },
          "metadata": {},
          "execution_count": 37
        }
      ]
    },
    {
      "cell_type": "code",
      "source": [
        "\n",
        "z = \"hi\"\n",
        "print(type(z))"
      ],
      "metadata": {
        "colab": {
          "base_uri": "https://localhost:8080/"
        },
        "id": "qq2BsfgdlpGm",
        "outputId": "7e0f4852-dd78-4bd8-fb76-90b632d41565"
      },
      "execution_count": null,
      "outputs": [
        {
          "output_type": "stream",
          "name": "stdout",
          "text": [
            "<class 'str'>\n"
          ]
        }
      ]
    },
    {
      "cell_type": "code",
      "source": [
        "a = 10\n",
        "b = 20\n",
        "print(a+b)\n",
        "print(a-b)\n",
        "print(a*b)\n",
        "print(a/b)\n",
        "print(a**b)"
      ],
      "metadata": {
        "colab": {
          "base_uri": "https://localhost:8080/"
        },
        "outputId": "555f8931-f01e-4e5e-8225-44b88b538aaa",
        "id": "zqsSXKVmcAVU"
      },
      "execution_count": null,
      "outputs": [
        {
          "output_type": "stream",
          "name": "stdout",
          "text": [
            "30\n",
            "-10\n",
            "200\n",
            "0.5\n",
            "100000000000000000000\n"
          ]
        }
      ]
    },
    {
      "cell_type": "markdown",
      "source": [
        "### Booleans:\n",
        "True or false statements."
      ],
      "metadata": {
        "id": "Pa4vUuwcQokf"
      }
    },
    {
      "cell_type": "code",
      "source": [
        "x = 12\n",
        "y = 10\n",
        "print(x == y)"
      ],
      "metadata": {
        "id": "0Q3VFKQ5QKt5",
        "colab": {
          "base_uri": "https://localhost:8080/"
        },
        "outputId": "c7c4fbd7-ef84-4027-ce9f-76614fc59130"
      },
      "execution_count": null,
      "outputs": [
        {
          "output_type": "stream",
          "name": "stdout",
          "text": [
            "False\n"
          ]
        }
      ]
    },
    {
      "cell_type": "code",
      "source": [
        "e = True \n",
        "f = False\n",
        "print(e)\n",
        "print(f)\n",
        "# True and False are special values so you can not name any variables True/False"
      ],
      "metadata": {
        "id": "axdTT_KoRsRR",
        "colab": {
          "base_uri": "https://localhost:8080/"
        },
        "outputId": "591de707-3e46-4a75-ef69-fbee52837086"
      },
      "execution_count": null,
      "outputs": [
        {
          "output_type": "stream",
          "name": "stdout",
          "text": [
            "True\n",
            "False\n"
          ]
        }
      ]
    },
    {
      "cell_type": "markdown",
      "source": [
        "## Using libraries/packages in Python\n",
        "\n",
        "A lot of the times, the gerneral functions and operations are not enough. We have to call on other libraries to provide us with the appropriate tools for the programs. Most commonly used data science libraries in Python are pandas, numpy, and geopandas."
      ],
      "metadata": {
        "id": "cDIprBlxbEjL"
      }
    },
    {
      "cell_type": "code",
      "source": [
        "# we can square a number but can't find the square root:\n",
        "2**2"
      ],
      "metadata": {
        "colab": {
          "base_uri": "https://localhost:8080/"
        },
        "id": "hlVKtQJJbgCz",
        "outputId": "a27023a4-c1a2-4c99-ec3b-15fe45c2625d"
      },
      "execution_count": null,
      "outputs": [
        {
          "output_type": "execute_result",
          "data": {
            "text/plain": [
              "4"
            ]
          },
          "metadata": {},
          "execution_count": 42
        }
      ]
    },
    {
      "cell_type": "code",
      "source": [
        "sqrt(2)"
      ],
      "metadata": {
        "colab": {
          "base_uri": "https://localhost:8080/",
          "height": 165
        },
        "id": "djbTlvdZPUdR",
        "outputId": "b64d9508-6fca-4c5c-bd97-75e32f70de81"
      },
      "execution_count": null,
      "outputs": [
        {
          "output_type": "error",
          "ename": "NameError",
          "evalue": "ignored",
          "traceback": [
            "\u001b[0;31m---------------------------------------------------------------------------\u001b[0m",
            "\u001b[0;31mNameError\u001b[0m                                 Traceback (most recent call last)",
            "\u001b[0;32m<ipython-input-44-66e338417901>\u001b[0m in \u001b[0;36m<module>\u001b[0;34m\u001b[0m\n\u001b[0;32m----> 1\u001b[0;31m \u001b[0msqrt\u001b[0m\u001b[0;34m(\u001b[0m\u001b[0;36m2\u001b[0m\u001b[0;34m)\u001b[0m\u001b[0;34m\u001b[0m\u001b[0;34m\u001b[0m\u001b[0m\n\u001b[0m",
            "\u001b[0;31mNameError\u001b[0m: name 'sqrt' is not defined"
          ]
        }
      ]
    },
    {
      "cell_type": "markdown",
      "source": [
        "more information about Python's math library here: https://docs.python.org/3/library/math.html"
      ],
      "metadata": {
        "id": "dS3uNSXi3fsp"
      }
    },
    {
      "cell_type": "code",
      "source": [
        "import math\n",
        "#from math import *\n",
        "\n",
        "math.sqrt(4)"
      ],
      "metadata": {
        "colab": {
          "base_uri": "https://localhost:8080/"
        },
        "id": "d5zVAXjVPW4Z",
        "outputId": "b64e0d00-8b01-4d82-a479-d6464fbf217c"
      },
      "execution_count": null,
      "outputs": [
        {
          "output_type": "execute_result",
          "data": {
            "text/plain": [
              "2.0"
            ]
          },
          "metadata": {},
          "execution_count": 43
        }
      ]
    },
    {
      "cell_type": "markdown",
      "source": [
        "## Control flow (if/else statements)\n",
        "![controlFlow3.png](data:image/png;base64,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)"
      ],
      "metadata": {
        "id": "1ttRLb1Xlppi"
      }
    },
    {
      "cell_type": "code",
      "source": [],
      "metadata": {
        "id": "tbEXaHfaPcnp"
      },
      "execution_count": null,
      "outputs": []
    },
    {
      "cell_type": "markdown",
      "source": [
        "## Lists and tuples\n",
        "a list is collection of objects. "
      ],
      "metadata": {
        "id": "z32IxzfmnqPn"
      }
    },
    {
      "cell_type": "markdown",
      "source": [
        "## For loops and while loops"
      ],
      "metadata": {
        "id": "s_IhTwP-nfdG"
      }
    },
    {
      "cell_type": "markdown",
      "source": [
        "## Functions"
      ],
      "metadata": {
        "id": "iVElnfjJnyD9"
      }
    },
    {
      "cell_type": "code",
      "source": [
        "str(3.14*4**2)"
      ],
      "metadata": {
        "colab": {
          "base_uri": "https://localhost:8080/",
          "height": 35
        },
        "id": "2BiwMf_BSP1a",
        "outputId": "fdeb012c-c192-45ce-f004-801902d0df5e"
      },
      "execution_count": null,
      "outputs": [
        {
          "output_type": "execute_result",
          "data": {
            "text/plain": [
              "'50.24'"
            ],
            "application/vnd.google.colaboratory.intrinsic+json": {
              "type": "string"
            }
          },
          "metadata": {},
          "execution_count": 46
        }
      ]
    },
    {
      "cell_type": "code",
      "source": [
        "radius = input(\"enter radius here: \") \n",
        "area = 3.14*int(radius)**2\n",
        "print(\"The area is \" + str(area))"
      ],
      "metadata": {
        "colab": {
          "base_uri": "https://localhost:8080/"
        },
        "id": "JVeLAS7uSpoa",
        "outputId": "e6b89571-53aa-4411-8741-0dd9e5dbc272"
      },
      "execution_count": null,
      "outputs": [
        {
          "output_type": "stream",
          "name": "stdout",
          "text": [
            "enter radius here: 100\n",
            "The area is 31400.0\n"
          ]
        }
      ]
    },
    {
      "cell_type": "code",
      "source": [
        "type(radius)"
      ],
      "metadata": {
        "colab": {
          "base_uri": "https://localhost:8080/"
        },
        "id": "cX0sEsp_TTrU",
        "outputId": "fe35fde6-ad8a-48ea-8a7b-55c156e12c3d"
      },
      "execution_count": null,
      "outputs": [
        {
          "output_type": "execute_result",
          "data": {
            "text/plain": [
              "str"
            ]
          },
          "metadata": {},
          "execution_count": 50
        }
      ]
    },
    {
      "cell_type": "code",
      "source": [
        "[1,2,3,4,5]"
      ],
      "metadata": {
        "colab": {
          "base_uri": "https://localhost:8080/"
        },
        "id": "VhQFwmtpT6R7",
        "outputId": "b00f65f9-2c5e-4f94-c230-fc3051ba1846"
      },
      "execution_count": null,
      "outputs": [
        {
          "output_type": "execute_result",
          "data": {
            "text/plain": [
              "[1, 2, 3, 4, 5]"
            ]
          },
          "metadata": {},
          "execution_count": 51
        }
      ]
    },
    {
      "cell_type": "code",
      "source": [
        "list([1,2,3,4,5])"
      ],
      "metadata": {
        "colab": {
          "base_uri": "https://localhost:8080/"
        },
        "id": "jXMMViKRVV58",
        "outputId": "dd6066b5-334d-4b3b-fd52-f0a1ffc69d6d"
      },
      "execution_count": null,
      "outputs": [
        {
          "output_type": "execute_result",
          "data": {
            "text/plain": [
              "[1, 2, 3, 4, 5]"
            ]
          },
          "metadata": {},
          "execution_count": 53
        }
      ]
    },
    {
      "cell_type": "code",
      "source": [
        "x = [1,2,3,4]"
      ],
      "metadata": {
        "id": "G243eDihVYHb"
      },
      "execution_count": null,
      "outputs": []
    },
    {
      "cell_type": "code",
      "source": [
        "x*2"
      ],
      "metadata": {
        "colab": {
          "base_uri": "https://localhost:8080/"
        },
        "id": "GTXwtYCuVk2S",
        "outputId": "8582aa2b-92d9-4dfc-ce72-8663959c6c20"
      },
      "execution_count": null,
      "outputs": [
        {
          "output_type": "execute_result",
          "data": {
            "text/plain": [
              "[1, 2, 3, 4, 1, 2, 3, 4]"
            ]
          },
          "metadata": {},
          "execution_count": 61
        }
      ]
    },
    {
      "cell_type": "code",
      "source": [
        "x.append(5)"
      ],
      "metadata": {
        "id": "vgoOAr5-VsNj"
      },
      "execution_count": null,
      "outputs": []
    },
    {
      "cell_type": "code",
      "source": [
        "x.append([5,3,6])\n",
        "x"
      ],
      "metadata": {
        "colab": {
          "base_uri": "https://localhost:8080/"
        },
        "id": "KKIMsaCiVxQz",
        "outputId": "033ea049-317f-43fe-83b6-e63bef5017b1"
      },
      "execution_count": null,
      "outputs": [
        {
          "output_type": "execute_result",
          "data": {
            "text/plain": [
              "[1, 2, 3, 4, 5, 'November', [5, 3, 6]]"
            ]
          },
          "metadata": {},
          "execution_count": 59
        }
      ]
    },
    {
      "cell_type": "code",
      "source": [
        "y = []"
      ],
      "metadata": {
        "id": "Yh1CoP0JVx5j"
      },
      "execution_count": null,
      "outputs": []
    },
    {
      "cell_type": "code",
      "source": [
        "for i in x:\n",
        "  y.append(2*i)"
      ],
      "metadata": {
        "id": "CTgG_IAvWXKz"
      },
      "execution_count": null,
      "outputs": []
    },
    {
      "cell_type": "code",
      "source": [
        "y"
      ],
      "metadata": {
        "colab": {
          "base_uri": "https://localhost:8080/"
        },
        "id": "GpMQprY0WXmj",
        "outputId": "f2d2b2ce-1071-44a5-ffa3-27f703a24bea"
      },
      "execution_count": null,
      "outputs": [
        {
          "output_type": "execute_result",
          "data": {
            "text/plain": [
              "[2, 4, 6, 8]"
            ]
          },
          "metadata": {},
          "execution_count": 67
        }
      ]
    },
    {
      "cell_type": "code",
      "source": [
        "# tuple -- immutable list\n",
        "\n",
        "tpl = (1,2,34,5)"
      ],
      "metadata": {
        "id": "2-rQHE3hWmCj"
      },
      "execution_count": null,
      "outputs": []
    },
    {
      "cell_type": "code",
      "source": [
        "tpl.append(2)"
      ],
      "metadata": {
        "colab": {
          "base_uri": "https://localhost:8080/",
          "height": 165
        },
        "id": "B5IeFnOJW1Ib",
        "outputId": "61be2f9a-518e-4813-d167-9f429b1768b5"
      },
      "execution_count": null,
      "outputs": [
        {
          "output_type": "error",
          "ename": "AttributeError",
          "evalue": "ignored",
          "traceback": [
            "\u001b[0;31m---------------------------------------------------------------------------\u001b[0m",
            "\u001b[0;31mAttributeError\u001b[0m                            Traceback (most recent call last)",
            "\u001b[0;32m<ipython-input-69-60739e62d3de>\u001b[0m in \u001b[0;36m<module>\u001b[0;34m\u001b[0m\n\u001b[0;32m----> 1\u001b[0;31m \u001b[0mtpl\u001b[0m\u001b[0;34m.\u001b[0m\u001b[0mappend\u001b[0m\u001b[0;34m(\u001b[0m\u001b[0;36m2\u001b[0m\u001b[0;34m)\u001b[0m\u001b[0;34m\u001b[0m\u001b[0;34m\u001b[0m\u001b[0m\n\u001b[0m",
            "\u001b[0;31mAttributeError\u001b[0m: 'tuple' object has no attribute 'append'"
          ]
        }
      ]
    },
    {
      "cell_type": "code",
      "source": [
        "print(x.sort())"
      ],
      "metadata": {
        "colab": {
          "base_uri": "https://localhost:8080/"
        },
        "id": "iQvbExeUW22E",
        "outputId": "01eca913-b49f-4378-812e-697ff2f03a4b"
      },
      "execution_count": null,
      "outputs": [
        {
          "output_type": "stream",
          "name": "stdout",
          "text": [
            "None\n"
          ]
        }
      ]
    },
    {
      "cell_type": "code",
      "source": [
        "for i in range(10):\n",
        "  print(i*2)"
      ],
      "metadata": {
        "colab": {
          "base_uri": "https://localhost:8080/"
        },
        "id": "AfU5Rc_tW7qk",
        "outputId": "1fdd450a-3bee-48c4-a77a-0871233dea11"
      },
      "execution_count": null,
      "outputs": [
        {
          "output_type": "stream",
          "name": "stdout",
          "text": [
            "0\n",
            "2\n",
            "4\n",
            "6\n",
            "8\n",
            "10\n",
            "12\n",
            "14\n",
            "16\n",
            "18\n"
          ]
        }
      ]
    },
    {
      "cell_type": "code",
      "source": [
        "a = 10\n",
        "b = 0\n",
        "while True:\n",
        "  print(b)\n",
        "  b = b+1"
      ],
      "metadata": {
        "id": "rlN9RPpTXQRc"
      },
      "execution_count": null,
      "outputs": []
    },
    {
      "cell_type": "code",
      "source": [
        "# control flow,  for loops, functions"
      ],
      "metadata": {
        "id": "Q_J694CjX0_k"
      },
      "execution_count": null,
      "outputs": []
    },
    {
      "cell_type": "code",
      "source": [
        "for i in range(10):\n",
        "  print(i*2)"
      ],
      "metadata": {
        "colab": {
          "base_uri": "https://localhost:8080/"
        },
        "id": "8_uprTopq68k",
        "outputId": "9b5c716b-187e-43df-e069-bfa73bc97f86"
      },
      "execution_count": null,
      "outputs": [
        {
          "output_type": "stream",
          "name": "stdout",
          "text": [
            "0\n",
            "2\n",
            "4\n",
            "6\n",
            "8\n",
            "10\n",
            "12\n",
            "14\n",
            "16\n",
            "18\n"
          ]
        }
      ]
    },
    {
      "cell_type": "code",
      "source": [
        "\"\"\"\n",
        "if we have a large datasets, but we only want the ones that satisy few conditions, so if you are analyzing census data, you want to learn about households with senior citizens. like above 65. {}\n",
        "\"\"\"\n",
        "x = 10\n",
        "y = 10\n",
        "\n",
        "if x == y:\n",
        "  print(\"They are equal\")\n",
        "else:\n",
        "  print(\"not equal\")"
      ],
      "metadata": {
        "colab": {
          "base_uri": "https://localhost:8080/"
        },
        "id": "jh5B-TkVrB6M",
        "outputId": "fff76381-1756-4cbc-b60c-a26c77ea1e92"
      },
      "execution_count": null,
      "outputs": [
        {
          "output_type": "stream",
          "name": "stdout",
          "text": [
            "They are equal\n"
          ]
        }
      ]
    },
    {
      "cell_type": "code",
      "source": [],
      "metadata": {
        "id": "Vj3uxhEor8Zt"
      },
      "execution_count": null,
      "outputs": []
    }
  ]
}