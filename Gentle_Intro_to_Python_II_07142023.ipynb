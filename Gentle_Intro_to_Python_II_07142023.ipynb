{
  "nbformat": 4,
  "nbformat_minor": 0,
  "metadata": {
    "colab": {
      "provenance": [],
      "include_colab_link": true
    },
    "kernelspec": {
      "name": "python3",
      "display_name": "Python 3"
    },
    "language_info": {
      "name": "python"
    }
  },
  "cells": [
    {
      "cell_type": "markdown",
      "metadata": {
        "id": "view-in-github",
        "colab_type": "text"
      },
      "source": [
        "<a href=\"https://colab.research.google.com/github/MahmudN/Intro_to_Programming/blob/main/Gentle_Intro_to_Python_II_07142023.ipynb\" target=\"_parent\"><img src=\"https://colab.research.google.com/assets/colab-badge.svg\" alt=\"Open In Colab\"/></a>"
      ]
    },
    {
      "cell_type": "markdown",
      "source": [
        "# A Gentle Intro to Programming with Python II\n"
      ],
      "metadata": {
        "id": "AhwcYL9LazZc"
      }
    },
    {
      "cell_type": "markdown",
      "source": [
        "## Brief Review of Part I\n",
        "\n",
        "*   Python syntax\n",
        "*   variables\n",
        "*   commenting\n",
        "*   data types\n",
        "*   operations\n",
        "\n"
      ],
      "metadata": {
        "id": "QGDB54DMa-pc"
      }
    },
    {
      "cell_type": "markdown",
      "source": [
        "Python Syntax"
      ],
      "metadata": {
        "id": "dznPu290sVLu"
      }
    },
    {
      "cell_type": "code",
      "execution_count": null,
      "metadata": {
        "id": "gv-pXLH_ahth"
      },
      "outputs": [],
      "source": [
        "print(\"Hello, world!\")\n"
      ]
    },
    {
      "cell_type": "code",
      "source": [
        "print(\"Hi, Noor\")"
      ],
      "metadata": {
        "id": "0rGE_LjJS9-T"
      },
      "execution_count": null,
      "outputs": []
    },
    {
      "cell_type": "markdown",
      "source": [
        "Commenting\n"
      ],
      "metadata": {
        "id": "zFJGI58z77eg"
      }
    },
    {
      "cell_type": "code",
      "source": [
        "#print(\"Hello, world!\")"
      ],
      "metadata": {
        "id": "-sJ5KOucsp4R"
      },
      "execution_count": null,
      "outputs": []
    },
    {
      "cell_type": "markdown",
      "source": [
        "Variables\n"
      ],
      "metadata": {
        "id": "ngHCkSJVbiPk"
      }
    },
    {
      "cell_type": "code",
      "source": [
        "x = 12\n",
        "y = 300\n",
        "\n",
        "print(x)\n",
        "print(y)"
      ],
      "metadata": {
        "id": "7bu3Y_-6awK8"
      },
      "execution_count": null,
      "outputs": []
    },
    {
      "cell_type": "code",
      "source": [
        "# reset variables\n",
        "#print(x)\n",
        "x = \"Hi\"\n",
        "print(x)"
      ],
      "metadata": {
        "id": "xudUkk3jyLGe"
      },
      "execution_count": null,
      "outputs": []
    },
    {
      "cell_type": "markdown",
      "source": [
        "data types and operations:"
      ],
      "metadata": {
        "id": "ytd7KtFhj2og"
      }
    },
    {
      "cell_type": "code",
      "source": [
        "y = 12\n",
        "z = \"12\"\n",
        "\n",
        "\n",
        "print(\"y type = \",type(y))\n",
        "print(type(z))"
      ],
      "metadata": {
        "id": "g9RFsxdIKSuE"
      },
      "execution_count": null,
      "outputs": []
    },
    {
      "cell_type": "code",
      "source": [
        "a = 2\n",
        "b = 200\n",
        "\n",
        "print(a+b)\n",
        "print(a-b)\n",
        "print(a*b)\n",
        "print(b**a)"
      ],
      "metadata": {
        "id": "8oiRxuZmTyBo"
      },
      "execution_count": null,
      "outputs": []
    },
    {
      "cell_type": "markdown",
      "source": [
        "## Booleans and Conditionals:\n",
        "True or false statements.\n",
        "![controlFlow3.png](data:image/png;base64,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)"
      ],
      "metadata": {
        "id": "Pa4vUuwcQokf"
      }
    },
    {
      "cell_type": "code",
      "source": [
        "x = 12\n",
        "y = 10\n",
        "\n",
        "\n",
        "print(x == y)\n",
        "print(x > y)\n"
      ],
      "metadata": {
        "id": "0Q3VFKQ5QKt5"
      },
      "execution_count": null,
      "outputs": []
    },
    {
      "cell_type": "markdown",
      "source": [
        "#if/else statements"
      ],
      "metadata": {
        "id": "1ttRLb1Xlppi"
      }
    },
    {
      "cell_type": "markdown",
      "source": [
        "In control flow, we check if certain conditions are True/False and then do actions based on those conditions. There are also key words like \"and,\" \"or\", and \"not.\" In data analysis, conditionals are very usefull in filtering data. if, elif, else"
      ],
      "metadata": {
        "id": "NwnXua0_HS4v"
      }
    },
    {
      "cell_type": "code",
      "source": [
        "x = -6\n",
        "\n",
        "if x < 0:\n",
        "  print(\"It's negative!\")\n",
        "\n",
        "else:\n",
        "  print(\"It's positive\")\n",
        "\n",
        "# what if x is 0?"
      ],
      "metadata": {
        "id": "LJCRUIRsHRfR"
      },
      "execution_count": null,
      "outputs": []
    },
    {
      "cell_type": "markdown",
      "source": [
        "## Python Data Structures\n",
        "### List:\n",
        "A list is collection of objects.\n",
        "<br>So far we have talked about a variable representing a single value, but a variable can also hold a collection of values. We represent a list by using square brackets \"[ ].\" Some useful list functions: append, sort"
      ],
      "metadata": {
        "id": "z32IxzfmnqPn"
      }
    },
    {
      "cell_type": "code",
      "source": [
        "x = [105,10,15,90,500]"
      ],
      "metadata": {
        "id": "NCcY6R_EkINs"
      },
      "execution_count": null,
      "outputs": []
    },
    {
      "cell_type": "code",
      "source": [
        "print(x)"
      ],
      "metadata": {
        "id": "btAVaEc42AXB"
      },
      "execution_count": null,
      "outputs": []
    },
    {
      "cell_type": "code",
      "source": [
        "print('the max of x is ', max(x))\n",
        "print('the min of x is ',min(x))"
      ],
      "metadata": {
        "id": "QqzELUE0DiLv"
      },
      "execution_count": null,
      "outputs": []
    },
    {
      "cell_type": "code",
      "source": [
        "print(len(x))"
      ],
      "metadata": {
        "id": "2ryK0vqPkP4j"
      },
      "execution_count": null,
      "outputs": []
    },
    {
      "cell_type": "code",
      "source": [
        "# see what datatype x is\n",
        "print(type(x))"
      ],
      "metadata": {
        "id": "1UbwF7f32ab7"
      },
      "execution_count": null,
      "outputs": []
    },
    {
      "cell_type": "code",
      "source": [
        "print(x)"
      ],
      "metadata": {
        "id": "AKy0lp8E2iur"
      },
      "execution_count": null,
      "outputs": []
    },
    {
      "cell_type": "code",
      "source": [
        "#x.append(400)\n",
        "print(x)"
      ],
      "metadata": {
        "id": "F9_ctjDSloM1"
      },
      "execution_count": null,
      "outputs": []
    },
    {
      "cell_type": "code",
      "source": [
        "# you can have an empty list"
      ],
      "metadata": {
        "id": "EzXXCT7_F5l3"
      },
      "execution_count": null,
      "outputs": []
    },
    {
      "cell_type": "code",
      "source": [
        "# find the length of a list\n",
        "# len(x)\n",
        "print(len(x))"
      ],
      "metadata": {
        "id": "4_QGjdmTXG0z"
      },
      "execution_count": null,
      "outputs": []
    },
    {
      "cell_type": "code",
      "source": [
        "# arranging the order of elements in a list\n",
        "#x.sort()\n",
        "#x_sorted = sorted(x)\n",
        "x = [5,4,7,3,2,1]\n",
        "print(x)\n"
      ],
      "metadata": {
        "id": "3ljqDzZw3Fkz"
      },
      "execution_count": null,
      "outputs": []
    },
    {
      "cell_type": "code",
      "source": [
        "print(sorted(x))\n",
        "print(x)"
      ],
      "metadata": {
        "id": "nGw2ZuMez5Cc"
      },
      "execution_count": null,
      "outputs": []
    },
    {
      "cell_type": "code",
      "source": [
        "# using the .sort() function\n",
        "x.sort()\n",
        "print(x)"
      ],
      "metadata": {
        "id": "8aJFkL-AzsDR"
      },
      "execution_count": null,
      "outputs": []
    },
    {
      "cell_type": "code",
      "source": [
        "print(x)"
      ],
      "metadata": {
        "id": "7j8c74d9zzkO"
      },
      "execution_count": null,
      "outputs": []
    },
    {
      "cell_type": "code",
      "source": [
        "# indexing a list\n",
        "# x[0]"
      ],
      "metadata": {
        "id": "QjWr0P3xwNae"
      },
      "execution_count": null,
      "outputs": []
    },
    {
      "cell_type": "code",
      "source": [
        "# using a 'for loop' to iterate over a list\n",
        "for i in x:\n",
        "  print(i)"
      ],
      "metadata": {
        "id": "Wk_r6LZEzMCk"
      },
      "execution_count": null,
      "outputs": []
    },
    {
      "cell_type": "code",
      "source": [
        "# using slicing to get a subset of the list\n",
        "# x[1:]"
      ],
      "metadata": {
        "id": "aSA5SoMrwXMN"
      },
      "execution_count": null,
      "outputs": []
    },
    {
      "cell_type": "markdown",
      "source": [
        "## For loops\n",
        "\n",
        "Think of loops as repetitions. The key difference between for loop and while loop is that in for loops, we set a value that will end the repetitions, but in while while loops we set a condition for the repetition to stop."
      ],
      "metadata": {
        "id": "s_IhTwP-nfdG"
      }
    },
    {
      "cell_type": "code",
      "source": [
        "for i in range(1,10):\n",
        "  print(i)\n",
        "  #print(\"hello, world\")"
      ],
      "metadata": {
        "id": "Qg_A6AP8UtMz"
      },
      "execution_count": null,
      "outputs": []
    },
    {
      "cell_type": "code",
      "source": [
        "for i in range(10):\n",
        "  print(\"Hello, world\")"
      ],
      "metadata": {
        "id": "EDOBTM2Y4lFR"
      },
      "execution_count": null,
      "outputs": []
    },
    {
      "cell_type": "code",
      "source": [
        "# we can loop over a list:\n",
        "a_list = [1,2,3,4,5,6]\n",
        "for i in a_list:\n",
        "  print(i)"
      ],
      "metadata": {
        "id": "hxovSHJhXL1Q"
      },
      "execution_count": null,
      "outputs": []
    },
    {
      "cell_type": "markdown",
      "source": [
        "## Functions"
      ],
      "metadata": {
        "id": "iVElnfjJnyD9"
      }
    },
    {
      "cell_type": "markdown",
      "source": [
        "<p>A function is a block of codes that only run when the name of the function is called. Key features of a function: arguments, \"return\" <p>\n"
      ],
      "metadata": {
        "id": "-OKCKvCsR4xm"
      }
    },
    {
      "cell_type": "code",
      "source": [
        "print(\"Hello, world\")"
      ],
      "metadata": {
        "id": "b0U9KxbG45Ch"
      },
      "execution_count": null,
      "outputs": []
    },
    {
      "cell_type": "code",
      "source": [
        "# basic function:\n",
        "def greet():\n",
        "  print(\"hello, world\")"
      ],
      "metadata": {
        "id": "5AsbKbzY49Wp"
      },
      "execution_count": null,
      "outputs": []
    },
    {
      "cell_type": "code",
      "source": [
        "greet()"
      ],
      "metadata": {
        "id": "cv3KB1Fb5JVJ"
      },
      "execution_count": null,
      "outputs": []
    },
    {
      "cell_type": "code",
      "source": [
        "# next level greet_person(name):"
      ],
      "metadata": {
        "id": "s38SlvIgEouZ"
      },
      "execution_count": null,
      "outputs": []
    },
    {
      "cell_type": "code",
      "source": [
        "# function ask for name (take user input)"
      ],
      "metadata": {
        "id": "lKG460Nu2L6p"
      },
      "execution_count": null,
      "outputs": []
    },
    {
      "cell_type": "code",
      "source": [
        "def difference(a, b):\n",
        "  c = a-b\n",
        "  return c"
      ],
      "metadata": {
        "id": "Kk-RY2fVovFY"
      },
      "execution_count": null,
      "outputs": []
    },
    {
      "cell_type": "code",
      "source": [
        "print(difference(10,500))"
      ],
      "metadata": {
        "id": "ewvMNfxOFAVa"
      },
      "execution_count": null,
      "outputs": []
    },
    {
      "cell_type": "code",
      "source": [
        "print(difference(100,5))"
      ],
      "metadata": {
        "id": "s06EfiLio1Qz"
      },
      "execution_count": null,
      "outputs": []
    },
    {
      "cell_type": "code",
      "source": [
        "# a function that prints the area of a circle with entering the radius\n",
        "\n",
        "def area_cir(radius):\n",
        "  area = 3.14*int(radius)**2\n",
        "  print(\"The area is \" + str(area))"
      ],
      "metadata": {
        "id": "yfeUcyPAoyAT"
      },
      "execution_count": null,
      "outputs": []
    },
    {
      "cell_type": "markdown",
      "source": [
        "## Using Libraries and packages in Python"
      ],
      "metadata": {
        "id": "T67RiT2xbD4g"
      }
    },
    {
      "cell_type": "code",
      "source": [
        "# x^y\n",
        "\n",
        "x = 10\n",
        "y = 2\n",
        "\n",
        "print(x**y)"
      ],
      "metadata": {
        "id": "DYNmx9XK2jUX"
      },
      "execution_count": null,
      "outputs": []
    },
    {
      "cell_type": "code",
      "source": [
        "sqrt(x)"
      ],
      "metadata": {
        "id": "6n6dQ14r2m1o"
      },
      "execution_count": null,
      "outputs": []
    },
    {
      "cell_type": "code",
      "source": [
        "import math\n",
        "print(math.sqrt(x))"
      ],
      "metadata": {
        "id": "9z6yVXbz2rzi"
      },
      "execution_count": null,
      "outputs": []
    },
    {
      "cell_type": "markdown",
      "source": [
        "## Data analysis exercise 1:\n",
        "In this exercise, we will do some data manipulation with the New County Census data. We will load the population and filter to get only the county populations greater than 100,000."
      ],
      "metadata": {
        "id": "yNKo_VLrXfIQ"
      }
    },
    {
      "cell_type": "code",
      "source": [
        "# data source: https://data.cityofnewyork.us/Social-Services/FDNY-Monthly-Response-Times/j34j-vqvt\n",
        "import pandas\n",
        "\n",
        "df = pandas.read_csv(\"https://raw.githubusercontent.com/MahmudN/Intro_to_Programming/main/FDNY_Monthly_Response_Times.csv\")\n",
        "df"
      ],
      "metadata": {
        "id": "t2hBMDcwdIDU",
        "colab": {
          "base_uri": "https://localhost:8080/",
          "height": 423
        },
        "outputId": "edee5f29-d592-4bf1-d152-0e932e678335"
      },
      "execution_count": 1,
      "outputs": [
        {
          "output_type": "execute_result",
          "data": {
            "text/plain": [
              "     YEARMONTH        INCIDENTCLASSIFICATION INCIDENTBOROUGH INCIDENTCOUNT  \\\n",
              "0      2009/07  All Fire/Emergency Incidents        Citywide        40,850   \n",
              "1      2009/07  All Fire/Emergency Incidents       Manhattan        10,709   \n",
              "2      2009/07  All Fire/Emergency Incidents           Bronx         8,137   \n",
              "3      2009/07  All Fire/Emergency Incidents   Staten Island         2,205   \n",
              "4      2009/07  All Fire/Emergency Incidents        Brooklyn        11,505   \n",
              "...        ...                           ...             ...           ...   \n",
              "4363   FY 2017              Structural Fires       Manhattan         5,669   \n",
              "4364   FY 2017              Structural Fires           Bronx         5,829   \n",
              "4365   FY 2017              Structural Fires   Staten Island         1,266   \n",
              "4366   FY 2017              Structural Fires        Brooklyn         7,949   \n",
              "4367   FY 2017              Structural Fires          Queens         5,362   \n",
              "\n",
              "     AVERAGERESPONSETIME  \n",
              "0                  04:27  \n",
              "1                  04:32  \n",
              "2                  04:37  \n",
              "3                  04:45  \n",
              "4                  04:01  \n",
              "...                  ...  \n",
              "4363               04:26  \n",
              "4364               04:22  \n",
              "4365               04:28  \n",
              "4366               03:42  \n",
              "4367               04:34  \n",
              "\n",
              "[4368 rows x 5 columns]"
            ],
            "text/html": [
              "\n",
              "\n",
              "  <div id=\"df-c9962fd3-bb4c-4498-88ac-f8c820071f03\">\n",
              "    <div class=\"colab-df-container\">\n",
              "      <div>\n",
              "<style scoped>\n",
              "    .dataframe tbody tr th:only-of-type {\n",
              "        vertical-align: middle;\n",
              "    }\n",
              "\n",
              "    .dataframe tbody tr th {\n",
              "        vertical-align: top;\n",
              "    }\n",
              "\n",
              "    .dataframe thead th {\n",
              "        text-align: right;\n",
              "    }\n",
              "</style>\n",
              "<table border=\"1\" class=\"dataframe\">\n",
              "  <thead>\n",
              "    <tr style=\"text-align: right;\">\n",
              "      <th></th>\n",
              "      <th>YEARMONTH</th>\n",
              "      <th>INCIDENTCLASSIFICATION</th>\n",
              "      <th>INCIDENTBOROUGH</th>\n",
              "      <th>INCIDENTCOUNT</th>\n",
              "      <th>AVERAGERESPONSETIME</th>\n",
              "    </tr>\n",
              "  </thead>\n",
              "  <tbody>\n",
              "    <tr>\n",
              "      <th>0</th>\n",
              "      <td>2009/07</td>\n",
              "      <td>All Fire/Emergency Incidents</td>\n",
              "      <td>Citywide</td>\n",
              "      <td>40,850</td>\n",
              "      <td>04:27</td>\n",
              "    </tr>\n",
              "    <tr>\n",
              "      <th>1</th>\n",
              "      <td>2009/07</td>\n",
              "      <td>All Fire/Emergency Incidents</td>\n",
              "      <td>Manhattan</td>\n",
              "      <td>10,709</td>\n",
              "      <td>04:32</td>\n",
              "    </tr>\n",
              "    <tr>\n",
              "      <th>2</th>\n",
              "      <td>2009/07</td>\n",
              "      <td>All Fire/Emergency Incidents</td>\n",
              "      <td>Bronx</td>\n",
              "      <td>8,137</td>\n",
              "      <td>04:37</td>\n",
              "    </tr>\n",
              "    <tr>\n",
              "      <th>3</th>\n",
              "      <td>2009/07</td>\n",
              "      <td>All Fire/Emergency Incidents</td>\n",
              "      <td>Staten Island</td>\n",
              "      <td>2,205</td>\n",
              "      <td>04:45</td>\n",
              "    </tr>\n",
              "    <tr>\n",
              "      <th>4</th>\n",
              "      <td>2009/07</td>\n",
              "      <td>All Fire/Emergency Incidents</td>\n",
              "      <td>Brooklyn</td>\n",
              "      <td>11,505</td>\n",
              "      <td>04:01</td>\n",
              "    </tr>\n",
              "    <tr>\n",
              "      <th>...</th>\n",
              "      <td>...</td>\n",
              "      <td>...</td>\n",
              "      <td>...</td>\n",
              "      <td>...</td>\n",
              "      <td>...</td>\n",
              "    </tr>\n",
              "    <tr>\n",
              "      <th>4363</th>\n",
              "      <td>FY 2017</td>\n",
              "      <td>Structural Fires</td>\n",
              "      <td>Manhattan</td>\n",
              "      <td>5,669</td>\n",
              "      <td>04:26</td>\n",
              "    </tr>\n",
              "    <tr>\n",
              "      <th>4364</th>\n",
              "      <td>FY 2017</td>\n",
              "      <td>Structural Fires</td>\n",
              "      <td>Bronx</td>\n",
              "      <td>5,829</td>\n",
              "      <td>04:22</td>\n",
              "    </tr>\n",
              "    <tr>\n",
              "      <th>4365</th>\n",
              "      <td>FY 2017</td>\n",
              "      <td>Structural Fires</td>\n",
              "      <td>Staten Island</td>\n",
              "      <td>1,266</td>\n",
              "      <td>04:28</td>\n",
              "    </tr>\n",
              "    <tr>\n",
              "      <th>4366</th>\n",
              "      <td>FY 2017</td>\n",
              "      <td>Structural Fires</td>\n",
              "      <td>Brooklyn</td>\n",
              "      <td>7,949</td>\n",
              "      <td>03:42</td>\n",
              "    </tr>\n",
              "    <tr>\n",
              "      <th>4367</th>\n",
              "      <td>FY 2017</td>\n",
              "      <td>Structural Fires</td>\n",
              "      <td>Queens</td>\n",
              "      <td>5,362</td>\n",
              "      <td>04:34</td>\n",
              "    </tr>\n",
              "  </tbody>\n",
              "</table>\n",
              "<p>4368 rows × 5 columns</p>\n",
              "</div>\n",
              "      <button class=\"colab-df-convert\" onclick=\"convertToInteractive('df-c9962fd3-bb4c-4498-88ac-f8c820071f03')\"\n",
              "              title=\"Convert this dataframe to an interactive table.\"\n",
              "              style=\"display:none;\">\n",
              "\n",
              "  <svg xmlns=\"http://www.w3.org/2000/svg\" height=\"24px\"viewBox=\"0 0 24 24\"\n",
              "       width=\"24px\">\n",
              "    <path d=\"M0 0h24v24H0V0z\" fill=\"none\"/>\n",
              "    <path d=\"M18.56 5.44l.94 2.06.94-2.06 2.06-.94-2.06-.94-.94-2.06-.94 2.06-2.06.94zm-11 1L8.5 8.5l.94-2.06 2.06-.94-2.06-.94L8.5 2.5l-.94 2.06-2.06.94zm10 10l.94 2.06.94-2.06 2.06-.94-2.06-.94-.94-2.06-.94 2.06-2.06.94z\"/><path d=\"M17.41 7.96l-1.37-1.37c-.4-.4-.92-.59-1.43-.59-.52 0-1.04.2-1.43.59L10.3 9.45l-7.72 7.72c-.78.78-.78 2.05 0 2.83L4 21.41c.39.39.9.59 1.41.59.51 0 1.02-.2 1.41-.59l7.78-7.78 2.81-2.81c.8-.78.8-2.07 0-2.86zM5.41 20L4 18.59l7.72-7.72 1.47 1.35L5.41 20z\"/>\n",
              "  </svg>\n",
              "      </button>\n",
              "\n",
              "\n",
              "\n",
              "    <div id=\"df-824c7a0b-9a84-4beb-b0a5-52f9320bc994\">\n",
              "      <button class=\"colab-df-quickchart\" onclick=\"quickchart('df-824c7a0b-9a84-4beb-b0a5-52f9320bc994')\"\n",
              "              title=\"Suggest charts.\"\n",
              "              style=\"display:none;\">\n",
              "\n",
              "<svg xmlns=\"http://www.w3.org/2000/svg\" height=\"24px\"viewBox=\"0 0 24 24\"\n",
              "     width=\"24px\">\n",
              "    <g>\n",
              "        <path d=\"M19 3H5c-1.1 0-2 .9-2 2v14c0 1.1.9 2 2 2h14c1.1 0 2-.9 2-2V5c0-1.1-.9-2-2-2zM9 17H7v-7h2v7zm4 0h-2V7h2v10zm4 0h-2v-4h2v4z\"/>\n",
              "    </g>\n",
              "</svg>\n",
              "      </button>\n",
              "    </div>\n",
              "\n",
              "<style>\n",
              "  .colab-df-quickchart {\n",
              "    background-color: #E8F0FE;\n",
              "    border: none;\n",
              "    border-radius: 50%;\n",
              "    cursor: pointer;\n",
              "    display: none;\n",
              "    fill: #1967D2;\n",
              "    height: 32px;\n",
              "    padding: 0 0 0 0;\n",
              "    width: 32px;\n",
              "  }\n",
              "\n",
              "  .colab-df-quickchart:hover {\n",
              "    background-color: #E2EBFA;\n",
              "    box-shadow: 0px 1px 2px rgba(60, 64, 67, 0.3), 0px 1px 3px 1px rgba(60, 64, 67, 0.15);\n",
              "    fill: #174EA6;\n",
              "  }\n",
              "\n",
              "  [theme=dark] .colab-df-quickchart {\n",
              "    background-color: #3B4455;\n",
              "    fill: #D2E3FC;\n",
              "  }\n",
              "\n",
              "  [theme=dark] .colab-df-quickchart:hover {\n",
              "    background-color: #434B5C;\n",
              "    box-shadow: 0px 1px 3px 1px rgba(0, 0, 0, 0.15);\n",
              "    filter: drop-shadow(0px 1px 2px rgba(0, 0, 0, 0.3));\n",
              "    fill: #FFFFFF;\n",
              "  }\n",
              "</style>\n",
              "\n",
              "    <script>\n",
              "      async function quickchart(key) {\n",
              "        const containerElement = document.querySelector('#' + key);\n",
              "        const charts = await google.colab.kernel.invokeFunction(\n",
              "            'suggestCharts', [key], {});\n",
              "      }\n",
              "    </script>\n",
              "\n",
              "      <script>\n",
              "\n",
              "function displayQuickchartButton(domScope) {\n",
              "  let quickchartButtonEl =\n",
              "    domScope.querySelector('#df-824c7a0b-9a84-4beb-b0a5-52f9320bc994 button.colab-df-quickchart');\n",
              "  quickchartButtonEl.style.display =\n",
              "    google.colab.kernel.accessAllowed ? 'block' : 'none';\n",
              "}\n",
              "\n",
              "        displayQuickchartButton(document);\n",
              "      </script>\n",
              "      <style>\n",
              "    .colab-df-container {\n",
              "      display:flex;\n",
              "      flex-wrap:wrap;\n",
              "      gap: 12px;\n",
              "    }\n",
              "\n",
              "    .colab-df-convert {\n",
              "      background-color: #E8F0FE;\n",
              "      border: none;\n",
              "      border-radius: 50%;\n",
              "      cursor: pointer;\n",
              "      display: none;\n",
              "      fill: #1967D2;\n",
              "      height: 32px;\n",
              "      padding: 0 0 0 0;\n",
              "      width: 32px;\n",
              "    }\n",
              "\n",
              "    .colab-df-convert:hover {\n",
              "      background-color: #E2EBFA;\n",
              "      box-shadow: 0px 1px 2px rgba(60, 64, 67, 0.3), 0px 1px 3px 1px rgba(60, 64, 67, 0.15);\n",
              "      fill: #174EA6;\n",
              "    }\n",
              "\n",
              "    [theme=dark] .colab-df-convert {\n",
              "      background-color: #3B4455;\n",
              "      fill: #D2E3FC;\n",
              "    }\n",
              "\n",
              "    [theme=dark] .colab-df-convert:hover {\n",
              "      background-color: #434B5C;\n",
              "      box-shadow: 0px 1px 3px 1px rgba(0, 0, 0, 0.15);\n",
              "      filter: drop-shadow(0px 1px 2px rgba(0, 0, 0, 0.3));\n",
              "      fill: #FFFFFF;\n",
              "    }\n",
              "  </style>\n",
              "\n",
              "      <script>\n",
              "        const buttonEl =\n",
              "          document.querySelector('#df-c9962fd3-bb4c-4498-88ac-f8c820071f03 button.colab-df-convert');\n",
              "        buttonEl.style.display =\n",
              "          google.colab.kernel.accessAllowed ? 'block' : 'none';\n",
              "\n",
              "        async function convertToInteractive(key) {\n",
              "          const element = document.querySelector('#df-c9962fd3-bb4c-4498-88ac-f8c820071f03');\n",
              "          const dataTable =\n",
              "            await google.colab.kernel.invokeFunction('convertToInteractive',\n",
              "                                                     [key], {});\n",
              "          if (!dataTable) return;\n",
              "\n",
              "          const docLinkHtml = 'Like what you see? Visit the ' +\n",
              "            '<a target=\"_blank\" href=https://colab.research.google.com/notebooks/data_table.ipynb>data table notebook</a>'\n",
              "            + ' to learn more about interactive tables.';\n",
              "          element.innerHTML = '';\n",
              "          dataTable['output_type'] = 'display_data';\n",
              "          await google.colab.output.renderOutput(dataTable, element);\n",
              "          const docLink = document.createElement('div');\n",
              "          docLink.innerHTML = docLinkHtml;\n",
              "          element.appendChild(docLink);\n",
              "        }\n",
              "      </script>\n",
              "    </div>\n",
              "  </div>\n"
            ]
          },
          "metadata": {},
          "execution_count": 1
        }
      ]
    },
    {
      "cell_type": "code",
      "source": [
        "df['YEARMONTH']"
      ],
      "metadata": {
        "id": "4dE_AAWKdSAx"
      },
      "execution_count": null,
      "outputs": []
    },
    {
      "cell_type": "code",
      "source": [
        "# look for unique values under borough"
      ],
      "metadata": {
        "id": "5s3PwzR-dj0w"
      },
      "execution_count": null,
      "outputs": []
    },
    {
      "cell_type": "code",
      "source": [
        "# look at incidents in Queens"
      ],
      "metadata": {
        "id": "q7Lw5eimexRy"
      },
      "execution_count": null,
      "outputs": []
    },
    {
      "cell_type": "code",
      "source": [
        "#df[['YEARMONTH',\t'INCIDENTCLASSIFICATION']].loc[df['INCIDENTCLASSIFICATION']=='Structural Fires']"
      ],
      "metadata": {
        "id": "Z5eggt9dinxR"
      },
      "execution_count": null,
      "outputs": []
    },
    {
      "cell_type": "code",
      "source": [
        "# look for unique values under YEARMONTH\n",
        "\n",
        "df[\"YEARMONTH\"].unique()"
      ],
      "metadata": {
        "id": "3pSIO9SDnGPr"
      },
      "execution_count": null,
      "outputs": []
    },
    {
      "cell_type": "code",
      "source": [
        "# clean the data and just have Years:\n",
        "# if starts with 2, use first 4, if starts with 'F', use last 4\n",
        "\n",
        "\n",
        "# define a list called year:\n",
        "year = []\n",
        "for i in df[\"YEARMONTH\"]:\n",
        "  # print(i)\n",
        "  # print(i[0], type(i[0]))\n",
        "  if i[0] == '2':\n",
        "    year.append(i[0:4])\n",
        "  else:\n",
        "    year.append(i[3:])"
      ],
      "metadata": {
        "id": "Y9eTKsT69eGX"
      },
      "execution_count": 4,
      "outputs": []
    },
    {
      "cell_type": "code",
      "source": [
        "#df.iloc[:5]\n",
        "\n",
        "# create a new year column\n",
        "df['Year'] = year"
      ],
      "metadata": {
        "id": "R87bqWIr-qsY"
      },
      "execution_count": 5,
      "outputs": []
    },
    {
      "cell_type": "code",
      "source": [
        "df.loc[df['Year'] == '2010'].loc[df['INCIDENTBOROUGH']=='Queens']"
      ],
      "metadata": {
        "colab": {
          "base_uri": "https://localhost:8080/",
          "height": 423
        },
        "id": "-0J9fzWOAfBl",
        "outputId": "4db1fb23-f3b7-409f-ed44-48e33d75cf14"
      },
      "execution_count": 43,
      "outputs": [
        {
          "output_type": "execute_result",
          "data": {
            "text/plain": [
              "     YEARMONTH        INCIDENTCLASSIFICATION INCIDENTBOROUGH INCIDENTCOUNT  \\\n",
              "257    2010/01  All Fire/Emergency Incidents          Queens         8,291   \n",
              "263    2010/01                   False Alarm          Queens           510   \n",
              "269    2010/01           Medical Emergencies          Queens         3,569   \n",
              "275    2010/01           Medical False Alarm          Queens            73   \n",
              "281    2010/01        NonMedical Emergencies          Queens         3,472   \n",
              "...        ...                           ...             ...           ...   \n",
              "4049   FY 2010           Medical Emergencies          Queens        44,301   \n",
              "4055   FY 2010           Medical False Alarm          Queens         1,094   \n",
              "4061   FY 2010        NonMedical Emergencies          Queens        38,652   \n",
              "4067   FY 2010           NonStructural Fires          Queens         3,926   \n",
              "4073   FY 2010              Structural Fires          Queens         4,730   \n",
              "\n",
              "     AVERAGERESPONSETIME  Year  incident_count_num   response_time  \n",
              "257                04:49  2010                8291 0 days 00:04:49  \n",
              "263                04:21  2010                 510 0 days 00:04:21  \n",
              "269                04:36  2010                3569 0 days 00:04:36  \n",
              "275                04:47  2010                  73 0 days 00:04:47  \n",
              "281                05:09  2010                3472 0 days 00:05:09  \n",
              "...                  ...   ...                 ...             ...  \n",
              "4049               04:34  2010               44301 0 days 00:04:34  \n",
              "4055               04:40  2010                1094 0 days 00:04:40  \n",
              "4061               05:15  2010               38652 0 days 00:05:15  \n",
              "4067               04:37  2010                3926 0 days 00:04:37  \n",
              "4073               04:20  2010                4730 0 days 00:04:20  \n",
              "\n",
              "[91 rows x 8 columns]"
            ],
            "text/html": [
              "\n",
              "\n",
              "  <div id=\"df-f93b55cf-1c86-4fbb-8f10-4a7dba65d5ab\">\n",
              "    <div class=\"colab-df-container\">\n",
              "      <div>\n",
              "<style scoped>\n",
              "    .dataframe tbody tr th:only-of-type {\n",
              "        vertical-align: middle;\n",
              "    }\n",
              "\n",
              "    .dataframe tbody tr th {\n",
              "        vertical-align: top;\n",
              "    }\n",
              "\n",
              "    .dataframe thead th {\n",
              "        text-align: right;\n",
              "    }\n",
              "</style>\n",
              "<table border=\"1\" class=\"dataframe\">\n",
              "  <thead>\n",
              "    <tr style=\"text-align: right;\">\n",
              "      <th></th>\n",
              "      <th>YEARMONTH</th>\n",
              "      <th>INCIDENTCLASSIFICATION</th>\n",
              "      <th>INCIDENTBOROUGH</th>\n",
              "      <th>INCIDENTCOUNT</th>\n",
              "      <th>AVERAGERESPONSETIME</th>\n",
              "      <th>Year</th>\n",
              "      <th>incident_count_num</th>\n",
              "      <th>response_time</th>\n",
              "    </tr>\n",
              "  </thead>\n",
              "  <tbody>\n",
              "    <tr>\n",
              "      <th>257</th>\n",
              "      <td>2010/01</td>\n",
              "      <td>All Fire/Emergency Incidents</td>\n",
              "      <td>Queens</td>\n",
              "      <td>8,291</td>\n",
              "      <td>04:49</td>\n",
              "      <td>2010</td>\n",
              "      <td>8291</td>\n",
              "      <td>0 days 00:04:49</td>\n",
              "    </tr>\n",
              "    <tr>\n",
              "      <th>263</th>\n",
              "      <td>2010/01</td>\n",
              "      <td>False Alarm</td>\n",
              "      <td>Queens</td>\n",
              "      <td>510</td>\n",
              "      <td>04:21</td>\n",
              "      <td>2010</td>\n",
              "      <td>510</td>\n",
              "      <td>0 days 00:04:21</td>\n",
              "    </tr>\n",
              "    <tr>\n",
              "      <th>269</th>\n",
              "      <td>2010/01</td>\n",
              "      <td>Medical Emergencies</td>\n",
              "      <td>Queens</td>\n",
              "      <td>3,569</td>\n",
              "      <td>04:36</td>\n",
              "      <td>2010</td>\n",
              "      <td>3569</td>\n",
              "      <td>0 days 00:04:36</td>\n",
              "    </tr>\n",
              "    <tr>\n",
              "      <th>275</th>\n",
              "      <td>2010/01</td>\n",
              "      <td>Medical False Alarm</td>\n",
              "      <td>Queens</td>\n",
              "      <td>73</td>\n",
              "      <td>04:47</td>\n",
              "      <td>2010</td>\n",
              "      <td>73</td>\n",
              "      <td>0 days 00:04:47</td>\n",
              "    </tr>\n",
              "    <tr>\n",
              "      <th>281</th>\n",
              "      <td>2010/01</td>\n",
              "      <td>NonMedical Emergencies</td>\n",
              "      <td>Queens</td>\n",
              "      <td>3,472</td>\n",
              "      <td>05:09</td>\n",
              "      <td>2010</td>\n",
              "      <td>3472</td>\n",
              "      <td>0 days 00:05:09</td>\n",
              "    </tr>\n",
              "    <tr>\n",
              "      <th>...</th>\n",
              "      <td>...</td>\n",
              "      <td>...</td>\n",
              "      <td>...</td>\n",
              "      <td>...</td>\n",
              "      <td>...</td>\n",
              "      <td>...</td>\n",
              "      <td>...</td>\n",
              "      <td>...</td>\n",
              "    </tr>\n",
              "    <tr>\n",
              "      <th>4049</th>\n",
              "      <td>FY 2010</td>\n",
              "      <td>Medical Emergencies</td>\n",
              "      <td>Queens</td>\n",
              "      <td>44,301</td>\n",
              "      <td>04:34</td>\n",
              "      <td>2010</td>\n",
              "      <td>44301</td>\n",
              "      <td>0 days 00:04:34</td>\n",
              "    </tr>\n",
              "    <tr>\n",
              "      <th>4055</th>\n",
              "      <td>FY 2010</td>\n",
              "      <td>Medical False Alarm</td>\n",
              "      <td>Queens</td>\n",
              "      <td>1,094</td>\n",
              "      <td>04:40</td>\n",
              "      <td>2010</td>\n",
              "      <td>1094</td>\n",
              "      <td>0 days 00:04:40</td>\n",
              "    </tr>\n",
              "    <tr>\n",
              "      <th>4061</th>\n",
              "      <td>FY 2010</td>\n",
              "      <td>NonMedical Emergencies</td>\n",
              "      <td>Queens</td>\n",
              "      <td>38,652</td>\n",
              "      <td>05:15</td>\n",
              "      <td>2010</td>\n",
              "      <td>38652</td>\n",
              "      <td>0 days 00:05:15</td>\n",
              "    </tr>\n",
              "    <tr>\n",
              "      <th>4067</th>\n",
              "      <td>FY 2010</td>\n",
              "      <td>NonStructural Fires</td>\n",
              "      <td>Queens</td>\n",
              "      <td>3,926</td>\n",
              "      <td>04:37</td>\n",
              "      <td>2010</td>\n",
              "      <td>3926</td>\n",
              "      <td>0 days 00:04:37</td>\n",
              "    </tr>\n",
              "    <tr>\n",
              "      <th>4073</th>\n",
              "      <td>FY 2010</td>\n",
              "      <td>Structural Fires</td>\n",
              "      <td>Queens</td>\n",
              "      <td>4,730</td>\n",
              "      <td>04:20</td>\n",
              "      <td>2010</td>\n",
              "      <td>4730</td>\n",
              "      <td>0 days 00:04:20</td>\n",
              "    </tr>\n",
              "  </tbody>\n",
              "</table>\n",
              "<p>91 rows × 8 columns</p>\n",
              "</div>\n",
              "      <button class=\"colab-df-convert\" onclick=\"convertToInteractive('df-f93b55cf-1c86-4fbb-8f10-4a7dba65d5ab')\"\n",
              "              title=\"Convert this dataframe to an interactive table.\"\n",
              "              style=\"display:none;\">\n",
              "\n",
              "  <svg xmlns=\"http://www.w3.org/2000/svg\" height=\"24px\"viewBox=\"0 0 24 24\"\n",
              "       width=\"24px\">\n",
              "    <path d=\"M0 0h24v24H0V0z\" fill=\"none\"/>\n",
              "    <path d=\"M18.56 5.44l.94 2.06.94-2.06 2.06-.94-2.06-.94-.94-2.06-.94 2.06-2.06.94zm-11 1L8.5 8.5l.94-2.06 2.06-.94-2.06-.94L8.5 2.5l-.94 2.06-2.06.94zm10 10l.94 2.06.94-2.06 2.06-.94-2.06-.94-.94-2.06-.94 2.06-2.06.94z\"/><path d=\"M17.41 7.96l-1.37-1.37c-.4-.4-.92-.59-1.43-.59-.52 0-1.04.2-1.43.59L10.3 9.45l-7.72 7.72c-.78.78-.78 2.05 0 2.83L4 21.41c.39.39.9.59 1.41.59.51 0 1.02-.2 1.41-.59l7.78-7.78 2.81-2.81c.8-.78.8-2.07 0-2.86zM5.41 20L4 18.59l7.72-7.72 1.47 1.35L5.41 20z\"/>\n",
              "  </svg>\n",
              "      </button>\n",
              "\n",
              "\n",
              "\n",
              "    <div id=\"df-c17ddfc2-bd7a-4b82-a8e9-1a307790a2e3\">\n",
              "      <button class=\"colab-df-quickchart\" onclick=\"quickchart('df-c17ddfc2-bd7a-4b82-a8e9-1a307790a2e3')\"\n",
              "              title=\"Suggest charts.\"\n",
              "              style=\"display:none;\">\n",
              "\n",
              "<svg xmlns=\"http://www.w3.org/2000/svg\" height=\"24px\"viewBox=\"0 0 24 24\"\n",
              "     width=\"24px\">\n",
              "    <g>\n",
              "        <path d=\"M19 3H5c-1.1 0-2 .9-2 2v14c0 1.1.9 2 2 2h14c1.1 0 2-.9 2-2V5c0-1.1-.9-2-2-2zM9 17H7v-7h2v7zm4 0h-2V7h2v10zm4 0h-2v-4h2v4z\"/>\n",
              "    </g>\n",
              "</svg>\n",
              "      </button>\n",
              "    </div>\n",
              "\n",
              "<style>\n",
              "  .colab-df-quickchart {\n",
              "    background-color: #E8F0FE;\n",
              "    border: none;\n",
              "    border-radius: 50%;\n",
              "    cursor: pointer;\n",
              "    display: none;\n",
              "    fill: #1967D2;\n",
              "    height: 32px;\n",
              "    padding: 0 0 0 0;\n",
              "    width: 32px;\n",
              "  }\n",
              "\n",
              "  .colab-df-quickchart:hover {\n",
              "    background-color: #E2EBFA;\n",
              "    box-shadow: 0px 1px 2px rgba(60, 64, 67, 0.3), 0px 1px 3px 1px rgba(60, 64, 67, 0.15);\n",
              "    fill: #174EA6;\n",
              "  }\n",
              "\n",
              "  [theme=dark] .colab-df-quickchart {\n",
              "    background-color: #3B4455;\n",
              "    fill: #D2E3FC;\n",
              "  }\n",
              "\n",
              "  [theme=dark] .colab-df-quickchart:hover {\n",
              "    background-color: #434B5C;\n",
              "    box-shadow: 0px 1px 3px 1px rgba(0, 0, 0, 0.15);\n",
              "    filter: drop-shadow(0px 1px 2px rgba(0, 0, 0, 0.3));\n",
              "    fill: #FFFFFF;\n",
              "  }\n",
              "</style>\n",
              "\n",
              "    <script>\n",
              "      async function quickchart(key) {\n",
              "        const containerElement = document.querySelector('#' + key);\n",
              "        const charts = await google.colab.kernel.invokeFunction(\n",
              "            'suggestCharts', [key], {});\n",
              "      }\n",
              "    </script>\n",
              "\n",
              "      <script>\n",
              "\n",
              "function displayQuickchartButton(domScope) {\n",
              "  let quickchartButtonEl =\n",
              "    domScope.querySelector('#df-c17ddfc2-bd7a-4b82-a8e9-1a307790a2e3 button.colab-df-quickchart');\n",
              "  quickchartButtonEl.style.display =\n",
              "    google.colab.kernel.accessAllowed ? 'block' : 'none';\n",
              "}\n",
              "\n",
              "        displayQuickchartButton(document);\n",
              "      </script>\n",
              "      <style>\n",
              "    .colab-df-container {\n",
              "      display:flex;\n",
              "      flex-wrap:wrap;\n",
              "      gap: 12px;\n",
              "    }\n",
              "\n",
              "    .colab-df-convert {\n",
              "      background-color: #E8F0FE;\n",
              "      border: none;\n",
              "      border-radius: 50%;\n",
              "      cursor: pointer;\n",
              "      display: none;\n",
              "      fill: #1967D2;\n",
              "      height: 32px;\n",
              "      padding: 0 0 0 0;\n",
              "      width: 32px;\n",
              "    }\n",
              "\n",
              "    .colab-df-convert:hover {\n",
              "      background-color: #E2EBFA;\n",
              "      box-shadow: 0px 1px 2px rgba(60, 64, 67, 0.3), 0px 1px 3px 1px rgba(60, 64, 67, 0.15);\n",
              "      fill: #174EA6;\n",
              "    }\n",
              "\n",
              "    [theme=dark] .colab-df-convert {\n",
              "      background-color: #3B4455;\n",
              "      fill: #D2E3FC;\n",
              "    }\n",
              "\n",
              "    [theme=dark] .colab-df-convert:hover {\n",
              "      background-color: #434B5C;\n",
              "      box-shadow: 0px 1px 3px 1px rgba(0, 0, 0, 0.15);\n",
              "      filter: drop-shadow(0px 1px 2px rgba(0, 0, 0, 0.3));\n",
              "      fill: #FFFFFF;\n",
              "    }\n",
              "  </style>\n",
              "\n",
              "      <script>\n",
              "        const buttonEl =\n",
              "          document.querySelector('#df-f93b55cf-1c86-4fbb-8f10-4a7dba65d5ab button.colab-df-convert');\n",
              "        buttonEl.style.display =\n",
              "          google.colab.kernel.accessAllowed ? 'block' : 'none';\n",
              "\n",
              "        async function convertToInteractive(key) {\n",
              "          const element = document.querySelector('#df-f93b55cf-1c86-4fbb-8f10-4a7dba65d5ab');\n",
              "          const dataTable =\n",
              "            await google.colab.kernel.invokeFunction('convertToInteractive',\n",
              "                                                     [key], {});\n",
              "          if (!dataTable) return;\n",
              "\n",
              "          const docLinkHtml = 'Like what you see? Visit the ' +\n",
              "            '<a target=\"_blank\" href=https://colab.research.google.com/notebooks/data_table.ipynb>data table notebook</a>'\n",
              "            + ' to learn more about interactive tables.';\n",
              "          element.innerHTML = '';\n",
              "          dataTable['output_type'] = 'display_data';\n",
              "          await google.colab.output.renderOutput(dataTable, element);\n",
              "          const docLink = document.createElement('div');\n",
              "          docLink.innerHTML = docLinkHtml;\n",
              "          element.appendChild(docLink);\n",
              "        }\n",
              "      </script>\n",
              "    </div>\n",
              "  </div>\n"
            ]
          },
          "metadata": {},
          "execution_count": 43
        }
      ]
    },
    {
      "cell_type": "code",
      "source": [
        "# clean the data and just have Years:\n",
        "# if starts with 2, use first 4, if starts with 'F', use last 4"
      ],
      "metadata": {
        "id": "3zLI_K63ngoV"
      },
      "execution_count": null,
      "outputs": []
    },
    {
      "cell_type": "code",
      "source": [
        "#df['INCIDENTCOUNT']\n",
        "df.iloc[0]\n",
        "\n",
        "# Remove commas and convert 'INCIDENTCOUNT' to numeric\n",
        "df['incident_count_num'] = df['INCIDENTCOUNT'].str.replace(',', '').astype(int)"
      ],
      "metadata": {
        "id": "iP6mCLGKJo5r"
      },
      "execution_count": 7,
      "outputs": []
    },
    {
      "cell_type": "code",
      "source": [
        "df"
      ],
      "metadata": {
        "colab": {
          "base_uri": "https://localhost:8080/",
          "height": 423
        },
        "id": "NdWrrGmCLNx0",
        "outputId": "e913c7ca-eda7-4fe8-979c-717beee84c4f"
      },
      "execution_count": null,
      "outputs": [
        {
          "output_type": "execute_result",
          "data": {
            "text/plain": [
              "     YEARMONTH        INCIDENTCLASSIFICATION INCIDENTBOROUGH INCIDENTCOUNT  \\\n",
              "0      2009/07  All Fire/Emergency Incidents        Citywide        40,850   \n",
              "1      2009/07  All Fire/Emergency Incidents       Manhattan        10,709   \n",
              "2      2009/07  All Fire/Emergency Incidents           Bronx         8,137   \n",
              "3      2009/07  All Fire/Emergency Incidents   Staten Island         2,205   \n",
              "4      2009/07  All Fire/Emergency Incidents        Brooklyn        11,505   \n",
              "...        ...                           ...             ...           ...   \n",
              "4363   FY 2017              Structural Fires       Manhattan         5,669   \n",
              "4364   FY 2017              Structural Fires           Bronx         5,829   \n",
              "4365   FY 2017              Structural Fires   Staten Island         1,266   \n",
              "4366   FY 2017              Structural Fires        Brooklyn         7,949   \n",
              "4367   FY 2017              Structural Fires          Queens         5,362   \n",
              "\n",
              "     AVERAGERESPONSETIME  Year  incident_count_num  \n",
              "0                  04:27  2009               40850  \n",
              "1                  04:32  2009               10709  \n",
              "2                  04:37  2009                8137  \n",
              "3                  04:45  2009                2205  \n",
              "4                  04:01  2009               11505  \n",
              "...                  ...   ...                 ...  \n",
              "4363               04:26  2017                5669  \n",
              "4364               04:22  2017                5829  \n",
              "4365               04:28  2017                1266  \n",
              "4366               03:42  2017                7949  \n",
              "4367               04:34  2017                5362  \n",
              "\n",
              "[4368 rows x 7 columns]"
            ],
            "text/html": [
              "\n",
              "\n",
              "  <div id=\"df-63a12262-5c70-49d6-9735-7fb790d8e920\">\n",
              "    <div class=\"colab-df-container\">\n",
              "      <div>\n",
              "<style scoped>\n",
              "    .dataframe tbody tr th:only-of-type {\n",
              "        vertical-align: middle;\n",
              "    }\n",
              "\n",
              "    .dataframe tbody tr th {\n",
              "        vertical-align: top;\n",
              "    }\n",
              "\n",
              "    .dataframe thead th {\n",
              "        text-align: right;\n",
              "    }\n",
              "</style>\n",
              "<table border=\"1\" class=\"dataframe\">\n",
              "  <thead>\n",
              "    <tr style=\"text-align: right;\">\n",
              "      <th></th>\n",
              "      <th>YEARMONTH</th>\n",
              "      <th>INCIDENTCLASSIFICATION</th>\n",
              "      <th>INCIDENTBOROUGH</th>\n",
              "      <th>INCIDENTCOUNT</th>\n",
              "      <th>AVERAGERESPONSETIME</th>\n",
              "      <th>Year</th>\n",
              "      <th>incident_count_num</th>\n",
              "    </tr>\n",
              "  </thead>\n",
              "  <tbody>\n",
              "    <tr>\n",
              "      <th>0</th>\n",
              "      <td>2009/07</td>\n",
              "      <td>All Fire/Emergency Incidents</td>\n",
              "      <td>Citywide</td>\n",
              "      <td>40,850</td>\n",
              "      <td>04:27</td>\n",
              "      <td>2009</td>\n",
              "      <td>40850</td>\n",
              "    </tr>\n",
              "    <tr>\n",
              "      <th>1</th>\n",
              "      <td>2009/07</td>\n",
              "      <td>All Fire/Emergency Incidents</td>\n",
              "      <td>Manhattan</td>\n",
              "      <td>10,709</td>\n",
              "      <td>04:32</td>\n",
              "      <td>2009</td>\n",
              "      <td>10709</td>\n",
              "    </tr>\n",
              "    <tr>\n",
              "      <th>2</th>\n",
              "      <td>2009/07</td>\n",
              "      <td>All Fire/Emergency Incidents</td>\n",
              "      <td>Bronx</td>\n",
              "      <td>8,137</td>\n",
              "      <td>04:37</td>\n",
              "      <td>2009</td>\n",
              "      <td>8137</td>\n",
              "    </tr>\n",
              "    <tr>\n",
              "      <th>3</th>\n",
              "      <td>2009/07</td>\n",
              "      <td>All Fire/Emergency Incidents</td>\n",
              "      <td>Staten Island</td>\n",
              "      <td>2,205</td>\n",
              "      <td>04:45</td>\n",
              "      <td>2009</td>\n",
              "      <td>2205</td>\n",
              "    </tr>\n",
              "    <tr>\n",
              "      <th>4</th>\n",
              "      <td>2009/07</td>\n",
              "      <td>All Fire/Emergency Incidents</td>\n",
              "      <td>Brooklyn</td>\n",
              "      <td>11,505</td>\n",
              "      <td>04:01</td>\n",
              "      <td>2009</td>\n",
              "      <td>11505</td>\n",
              "    </tr>\n",
              "    <tr>\n",
              "      <th>...</th>\n",
              "      <td>...</td>\n",
              "      <td>...</td>\n",
              "      <td>...</td>\n",
              "      <td>...</td>\n",
              "      <td>...</td>\n",
              "      <td>...</td>\n",
              "      <td>...</td>\n",
              "    </tr>\n",
              "    <tr>\n",
              "      <th>4363</th>\n",
              "      <td>FY 2017</td>\n",
              "      <td>Structural Fires</td>\n",
              "      <td>Manhattan</td>\n",
              "      <td>5,669</td>\n",
              "      <td>04:26</td>\n",
              "      <td>2017</td>\n",
              "      <td>5669</td>\n",
              "    </tr>\n",
              "    <tr>\n",
              "      <th>4364</th>\n",
              "      <td>FY 2017</td>\n",
              "      <td>Structural Fires</td>\n",
              "      <td>Bronx</td>\n",
              "      <td>5,829</td>\n",
              "      <td>04:22</td>\n",
              "      <td>2017</td>\n",
              "      <td>5829</td>\n",
              "    </tr>\n",
              "    <tr>\n",
              "      <th>4365</th>\n",
              "      <td>FY 2017</td>\n",
              "      <td>Structural Fires</td>\n",
              "      <td>Staten Island</td>\n",
              "      <td>1,266</td>\n",
              "      <td>04:28</td>\n",
              "      <td>2017</td>\n",
              "      <td>1266</td>\n",
              "    </tr>\n",
              "    <tr>\n",
              "      <th>4366</th>\n",
              "      <td>FY 2017</td>\n",
              "      <td>Structural Fires</td>\n",
              "      <td>Brooklyn</td>\n",
              "      <td>7,949</td>\n",
              "      <td>03:42</td>\n",
              "      <td>2017</td>\n",
              "      <td>7949</td>\n",
              "    </tr>\n",
              "    <tr>\n",
              "      <th>4367</th>\n",
              "      <td>FY 2017</td>\n",
              "      <td>Structural Fires</td>\n",
              "      <td>Queens</td>\n",
              "      <td>5,362</td>\n",
              "      <td>04:34</td>\n",
              "      <td>2017</td>\n",
              "      <td>5362</td>\n",
              "    </tr>\n",
              "  </tbody>\n",
              "</table>\n",
              "<p>4368 rows × 7 columns</p>\n",
              "</div>\n",
              "      <button class=\"colab-df-convert\" onclick=\"convertToInteractive('df-63a12262-5c70-49d6-9735-7fb790d8e920')\"\n",
              "              title=\"Convert this dataframe to an interactive table.\"\n",
              "              style=\"display:none;\">\n",
              "\n",
              "  <svg xmlns=\"http://www.w3.org/2000/svg\" height=\"24px\"viewBox=\"0 0 24 24\"\n",
              "       width=\"24px\">\n",
              "    <path d=\"M0 0h24v24H0V0z\" fill=\"none\"/>\n",
              "    <path d=\"M18.56 5.44l.94 2.06.94-2.06 2.06-.94-2.06-.94-.94-2.06-.94 2.06-2.06.94zm-11 1L8.5 8.5l.94-2.06 2.06-.94-2.06-.94L8.5 2.5l-.94 2.06-2.06.94zm10 10l.94 2.06.94-2.06 2.06-.94-2.06-.94-.94-2.06-.94 2.06-2.06.94z\"/><path d=\"M17.41 7.96l-1.37-1.37c-.4-.4-.92-.59-1.43-.59-.52 0-1.04.2-1.43.59L10.3 9.45l-7.72 7.72c-.78.78-.78 2.05 0 2.83L4 21.41c.39.39.9.59 1.41.59.51 0 1.02-.2 1.41-.59l7.78-7.78 2.81-2.81c.8-.78.8-2.07 0-2.86zM5.41 20L4 18.59l7.72-7.72 1.47 1.35L5.41 20z\"/>\n",
              "  </svg>\n",
              "      </button>\n",
              "\n",
              "\n",
              "\n",
              "    <div id=\"df-16cdaf15-b730-487e-aef3-8aa7ce099741\">\n",
              "      <button class=\"colab-df-quickchart\" onclick=\"quickchart('df-16cdaf15-b730-487e-aef3-8aa7ce099741')\"\n",
              "              title=\"Suggest charts.\"\n",
              "              style=\"display:none;\">\n",
              "\n",
              "<svg xmlns=\"http://www.w3.org/2000/svg\" height=\"24px\"viewBox=\"0 0 24 24\"\n",
              "     width=\"24px\">\n",
              "    <g>\n",
              "        <path d=\"M19 3H5c-1.1 0-2 .9-2 2v14c0 1.1.9 2 2 2h14c1.1 0 2-.9 2-2V5c0-1.1-.9-2-2-2zM9 17H7v-7h2v7zm4 0h-2V7h2v10zm4 0h-2v-4h2v4z\"/>\n",
              "    </g>\n",
              "</svg>\n",
              "      </button>\n",
              "    </div>\n",
              "\n",
              "<style>\n",
              "  .colab-df-quickchart {\n",
              "    background-color: #E8F0FE;\n",
              "    border: none;\n",
              "    border-radius: 50%;\n",
              "    cursor: pointer;\n",
              "    display: none;\n",
              "    fill: #1967D2;\n",
              "    height: 32px;\n",
              "    padding: 0 0 0 0;\n",
              "    width: 32px;\n",
              "  }\n",
              "\n",
              "  .colab-df-quickchart:hover {\n",
              "    background-color: #E2EBFA;\n",
              "    box-shadow: 0px 1px 2px rgba(60, 64, 67, 0.3), 0px 1px 3px 1px rgba(60, 64, 67, 0.15);\n",
              "    fill: #174EA6;\n",
              "  }\n",
              "\n",
              "  [theme=dark] .colab-df-quickchart {\n",
              "    background-color: #3B4455;\n",
              "    fill: #D2E3FC;\n",
              "  }\n",
              "\n",
              "  [theme=dark] .colab-df-quickchart:hover {\n",
              "    background-color: #434B5C;\n",
              "    box-shadow: 0px 1px 3px 1px rgba(0, 0, 0, 0.15);\n",
              "    filter: drop-shadow(0px 1px 2px rgba(0, 0, 0, 0.3));\n",
              "    fill: #FFFFFF;\n",
              "  }\n",
              "</style>\n",
              "\n",
              "    <script>\n",
              "      async function quickchart(key) {\n",
              "        const containerElement = document.querySelector('#' + key);\n",
              "        const charts = await google.colab.kernel.invokeFunction(\n",
              "            'suggestCharts', [key], {});\n",
              "      }\n",
              "    </script>\n",
              "\n",
              "      <script>\n",
              "\n",
              "function displayQuickchartButton(domScope) {\n",
              "  let quickchartButtonEl =\n",
              "    domScope.querySelector('#df-16cdaf15-b730-487e-aef3-8aa7ce099741 button.colab-df-quickchart');\n",
              "  quickchartButtonEl.style.display =\n",
              "    google.colab.kernel.accessAllowed ? 'block' : 'none';\n",
              "}\n",
              "\n",
              "        displayQuickchartButton(document);\n",
              "      </script>\n",
              "      <style>\n",
              "    .colab-df-container {\n",
              "      display:flex;\n",
              "      flex-wrap:wrap;\n",
              "      gap: 12px;\n",
              "    }\n",
              "\n",
              "    .colab-df-convert {\n",
              "      background-color: #E8F0FE;\n",
              "      border: none;\n",
              "      border-radius: 50%;\n",
              "      cursor: pointer;\n",
              "      display: none;\n",
              "      fill: #1967D2;\n",
              "      height: 32px;\n",
              "      padding: 0 0 0 0;\n",
              "      width: 32px;\n",
              "    }\n",
              "\n",
              "    .colab-df-convert:hover {\n",
              "      background-color: #E2EBFA;\n",
              "      box-shadow: 0px 1px 2px rgba(60, 64, 67, 0.3), 0px 1px 3px 1px rgba(60, 64, 67, 0.15);\n",
              "      fill: #174EA6;\n",
              "    }\n",
              "\n",
              "    [theme=dark] .colab-df-convert {\n",
              "      background-color: #3B4455;\n",
              "      fill: #D2E3FC;\n",
              "    }\n",
              "\n",
              "    [theme=dark] .colab-df-convert:hover {\n",
              "      background-color: #434B5C;\n",
              "      box-shadow: 0px 1px 3px 1px rgba(0, 0, 0, 0.15);\n",
              "      filter: drop-shadow(0px 1px 2px rgba(0, 0, 0, 0.3));\n",
              "      fill: #FFFFFF;\n",
              "    }\n",
              "  </style>\n",
              "\n",
              "      <script>\n",
              "        const buttonEl =\n",
              "          document.querySelector('#df-63a12262-5c70-49d6-9735-7fb790d8e920 button.colab-df-convert');\n",
              "        buttonEl.style.display =\n",
              "          google.colab.kernel.accessAllowed ? 'block' : 'none';\n",
              "\n",
              "        async function convertToInteractive(key) {\n",
              "          const element = document.querySelector('#df-63a12262-5c70-49d6-9735-7fb790d8e920');\n",
              "          const dataTable =\n",
              "            await google.colab.kernel.invokeFunction('convertToInteractive',\n",
              "                                                     [key], {});\n",
              "          if (!dataTable) return;\n",
              "\n",
              "          const docLinkHtml = 'Like what you see? Visit the ' +\n",
              "            '<a target=\"_blank\" href=https://colab.research.google.com/notebooks/data_table.ipynb>data table notebook</a>'\n",
              "            + ' to learn more about interactive tables.';\n",
              "          element.innerHTML = '';\n",
              "          dataTable['output_type'] = 'display_data';\n",
              "          await google.colab.output.renderOutput(dataTable, element);\n",
              "          const docLink = document.createElement('div');\n",
              "          docLink.innerHTML = docLinkHtml;\n",
              "          element.appendChild(docLink);\n",
              "        }\n",
              "      </script>\n",
              "    </div>\n",
              "  </div>\n"
            ]
          },
          "metadata": {},
          "execution_count": 85
        }
      ]
    },
    {
      "cell_type": "code",
      "source": [
        "# chart by year\n",
        "\n",
        "df.groupby(['Year', 'INCIDENTBOROUGH'])['incident_count_num'].mean().plot.bar(subplots=True, figsize=(12,6))"
      ],
      "metadata": {
        "id": "tq1JW700n0h2"
      },
      "execution_count": null,
      "outputs": []
    },
    {
      "cell_type": "code",
      "source": [
        "# chart just 'Citywide'\n",
        "# chart by year\n",
        "\n",
        "df.loc[df['INCIDENTBOROUGH'] == 'Citywide'].groupby(['Year', 'INCIDENTBOROUGH'])['incident_count_num'].mean().plot.bar(subplots=True, figsize=(12,6))"
      ],
      "metadata": {
        "colab": {
          "base_uri": "https://localhost:8080/",
          "height": 700
        },
        "id": "zeLfG_BP2E06",
        "outputId": "9da6aa27-0461-42c1-dc50-3a21cb9e1f47"
      },
      "execution_count": 9,
      "outputs": [
        {
          "output_type": "execute_result",
          "data": {
            "text/plain": [
              "array([<Axes: title={'center': 'incident_count_num'}, xlabel='Year,INCIDENTBOROUGH'>],\n",
              "      dtype=object)"
            ]
          },
          "metadata": {},
          "execution_count": 9
        },
        {
          "output_type": "display_data",
          "data": {
            "text/plain": [
              "<Figure size 1200x600 with 1 Axes>"
            ],
            "image/png": "[encoded data removed]"
          },
          "metadata": {}
        }
      ]
    },
    {
      "cell_type": "code",
      "source": [
        "# convert response time to time delta\n",
        "# df['AVERAGERESPONSETIME'] = pd.to_datetime(df['AVERAGERESPONSETIME'], format='%M:%S')\n",
        "# df['AVERAGERESPONSETIME']\n",
        "\n",
        "df['response_time'] = pandas.to_timedelta('00:'+df['AVERAGERESPONSETIME'] )\n",
        "df"
      ],
      "metadata": {
        "id": "Dli09XAzN7VI"
      },
      "execution_count": null,
      "outputs": []
    },
    {
      "cell_type": "code",
      "source": [
        "# get the mean response time for each borough from each year\n",
        "\n",
        "df.groupby(['Year','INCIDENTBOROUGH'])['response_time'].mean()"
      ],
      "metadata": {
        "id": "6MQcX0GT8FDn"
      },
      "execution_count": null,
      "outputs": []
    },
    {
      "cell_type": "markdown",
      "source": [
        "## Resources for Beginners:\n",
        "1. https://www.w3schools.com/python/default.asp\n",
        "2. https://www.linkedin.com/learning/\n",
        "3. Book: *Python for Data Analysis*\n",
        "  <br> https://www.amazon.com/Python-Data-Analysis-Wrangling-IPython/dp/1491957662"
      ],
      "metadata": {
        "id": "GIxRdeuYhd8a"
      }
    }
  ]
}