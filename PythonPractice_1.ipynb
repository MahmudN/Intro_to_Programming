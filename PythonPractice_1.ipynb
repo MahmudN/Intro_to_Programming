{
  "nbformat": 4,
  "nbformat_minor": 0,
  "metadata": {
    "colab": {
      "provenance": [],
      "authorship_tag": "ABX9TyPTKGg4At1fNkCW86Q07rrT",
      "include_colab_link": true
    },
    "kernelspec": {
      "name": "python3",
      "display_name": "Python 3"
    },
    "language_info": {
      "name": "python"
    }
  },
  "cells": [
    {
      "cell_type": "markdown",
      "metadata": {
        "id": "view-in-github",
        "colab_type": "text"
      },
      "source": [
        "<a href=\"https://colab.research.google.com/github/MahmudN/Intro_to_Programming/blob/main/PythonPractice_1.ipynb\" target=\"_parent\"><img src=\"https://colab.research.google.com/assets/colab-badge.svg\" alt=\"Open In Colab\"/></a>"
      ]
    },
    {
      "cell_type": "markdown",
      "source": [
        "Practice problems for Jeanne. <br>\n",
        "&nbsp;&nbsp;&nbsp;&nbsp; feel free to write your comments in your codes."
      ],
      "metadata": {
        "id": "us1jZNkS92DQ"
      }
    },
    {
      "cell_type": "markdown",
      "source": [
        "1. What's the data type of variable a?\n",
        "2. If variable a is not a string type, change it to a string type."
      ],
      "metadata": {
        "id": "JCRA4iOM-auI"
      }
    },
    {
      "cell_type": "code",
      "execution_count": null,
      "metadata": {
        "id": "dr70vhSk9xnh"
      },
      "outputs": [],
      "source": [
        "a = True"
      ]
    },
    {
      "cell_type": "markdown",
      "source": [
        "3. Show z is greater x. (Hint: use <,>,==)\n",
        "4. add varables x,y, and Z. Print the sum\n",
        "5. Multiply x,y,z. Save the product to new variable t.\n",
        "6. Show y is equal to '100'. (Hint: use <,>,==)\n",
        "7. Print solutions to problems 3-7 in one line"
      ],
      "metadata": {
        "id": "tkjfXVrl-dfP"
      }
    },
    {
      "cell_type": "code",
      "source": [
        "x = 12\n",
        "y = 100\n",
        "z = '50'"
      ],
      "metadata": {
        "id": "9Hvm2Z_Y-_YB"
      },
      "execution_count": null,
      "outputs": []
    },
    {
      "cell_type": "markdown",
      "source": [
        "8. Print the data type for variable b"
      ],
      "metadata": {
        "id": "lp747Da1_Zg_"
      }
    },
    {
      "cell_type": "code",
      "source": [
        "b = {\n",
        "    'a': [12,10,34],\n",
        "    'b': [36, 30, 102]\n",
        "    }"
      ],
      "metadata": {
        "id": "xHxrMX3CB7K8"
      },
      "execution_count": 2,
      "outputs": []
    },
    {
      "cell_type": "markdown",
      "source": [
        "9. Store the values of i, j, k to variable 'v' as a list data type.\n",
        "10. Add the string 'vectors' to the variable v."
      ],
      "metadata": {
        "id": "INUsNigmCaTa"
      }
    },
    {
      "cell_type": "code",
      "source": [
        "i = 45\n",
        "j = 60\n",
        "k = 72\n"
      ],
      "metadata": {
        "id": "9OKiEsk9CPkE"
      },
      "execution_count": null,
      "outputs": []
    },
    {
      "cell_type": "markdown",
      "source": [
        "11. Print 'Today is Friday' in three separate lines. (one line for each word).\n",
        "12. save 'Today is Friday' to any variable.\n",
        "13. Chnage the variable type from problem 12 to a Boolean value."
      ],
      "metadata": {
        "id": "Ol-w92dODT5b"
      }
    },
    {
      "cell_type": "code",
      "source": [
        "'Today is Friday'"
      ],
      "metadata": {
        "id": "TjMvl6cmERIm"
      },
      "execution_count": null,
      "outputs": []
    }
  ]
}